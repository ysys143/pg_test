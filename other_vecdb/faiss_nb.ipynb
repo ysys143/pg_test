{
 "cells": [
  {
   "cell_type": "code",
   "execution_count": 1,
   "metadata": {},
   "outputs": [],
   "source": [
    "import os\n",
    "import numpy as np\n",
    "import faiss\n",
    "\n",
    "# FAISS 인덱스 초기화\n",
    "# L2 거리 (유클리디안 거리) 기준 인덱스 생성\n",
    "index = faiss.IndexFlatL2(5)  # 벡터 차원 5\n"
   ]
  },
  {
   "cell_type": "code",
   "execution_count": 2,
   "metadata": {},
   "outputs": [
    {
     "name": "stdout",
     "output_type": "stream",
     "text": [
      "FAISS 인덱스에 10개의 벡터가 추가되었습니다.\n"
     ]
    }
   ],
   "source": [
    "# 벡터 생성\n",
    "example_vectors = np.random.randn(10, 5).astype('float32')  # FAISS는 float32를 요구\n",
    "example_ids = [f\"vec_{i}\" for i in range(len(example_vectors))]\n",
    "\n",
    "# 벡터 삽입\n",
    "index.add(example_vectors)  # 벡터 추가\n",
    "print(f\"FAISS 인덱스에 {index.ntotal}개의 벡터가 추가되었습니다.\")\n",
    "\n",
    "# ID와 벡터 인덱스 매핑\n",
    "id_to_index = {i: example_ids[i] for i in range(len(example_vectors))}\n",
    "\n",
    "# 인덱스 저장\n",
    "faiss.write_index(index, \"faiss_index.bin\")"
   ]
  },
  {
   "cell_type": "code",
   "execution_count": 3,
   "metadata": {},
   "outputs": [
    {
     "name": "stdout",
     "output_type": "stream",
     "text": [
      "\n",
      "Top 5 Nearest Vectors:\n",
      "Rank 1: ID = vec_7, Distance = 2.33762526512146\n",
      "Rank 2: ID = vec_6, Distance = 2.458592176437378\n",
      "Rank 3: ID = vec_8, Distance = 2.7448859214782715\n",
      "Rank 4: ID = vec_9, Distance = 2.774972438812256\n",
      "Rank 5: ID = vec_0, Distance = 2.900031089782715\n"
     ]
    }
   ],
   "source": [
    "# 저장된 인덱스 불러오기\n",
    "index = faiss.read_index(\"faiss_index.bin\")\n",
    "\n",
    "# 벡터 검색\n",
    "test_vec = np.random.randn(1, 5).astype('float32')  # 검색할 벡터\n",
    "k = 5  # 상위 5개 유사 벡터 검색\n",
    "\n",
    "# 검색 수행\n",
    "distances, indices = index.search(test_vec, k)\n",
    "\n",
    "# 결과 출력\n",
    "def show_results(test_vec, distances, indices):\n",
    "    for rank, (dist, idx) in enumerate(zip(distances[0], indices[0])):\n",
    "        vector_id = id_to_index[idx]\n",
    "        print(f\"Rank {rank + 1}: ID = {vector_id}, Distance = {dist}\")\n",
    "\n",
    "print(\"\\nTop 5 Nearest Vectors:\")\n",
    "show_results(test_vec, distances, indices)"
   ]
  }
 ],
 "metadata": {
  "kernelspec": {
   "display_name": "pg_venv",
   "language": "python",
   "name": "python3"
  },
  "language_info": {
   "codemirror_mode": {
    "name": "ipython",
    "version": 3
   },
   "file_extension": ".py",
   "mimetype": "text/x-python",
   "name": "python",
   "nbconvert_exporter": "python",
   "pygments_lexer": "ipython3",
   "version": "3.12.4"
  }
 },
 "nbformat": 4,
 "nbformat_minor": 2
}
