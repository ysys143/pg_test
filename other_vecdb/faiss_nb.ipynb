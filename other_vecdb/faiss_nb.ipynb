{
 "cells": [
  {
   "cell_type": "markdown",
   "metadata": {},
   "source": [
    "# Getting Started "
   ]
  },
  {
   "cell_type": "code",
   "execution_count": 1,
   "metadata": {},
   "outputs": [],
   "source": [
    "import numpy as np\n",
    "d = 64                           # dimension\n",
    "nb = 100000                      # database size\n",
    "nq = 10000                       # nb of queries\n",
    "np.random.seed(1234)             # make reproducible\n",
    "xb = np.random.random((nb, d)).astype('float32')\n",
    "xb[:, 0] += np.arange(nb) / 1000.\n",
    "xq = np.random.random((nq, d)).astype('float32')\n",
    "xq[:, 0] += np.arange(nq) / 1000."
   ]
  },
  {
   "cell_type": "code",
   "execution_count": 2,
   "metadata": {},
   "outputs": [
    {
     "name": "stdout",
     "output_type": "stream",
     "text": [
      "True\n",
      "100000\n"
     ]
    }
   ],
   "source": [
    "import faiss                   # make faiss available\n",
    "index = faiss.IndexFlatL2(d)   # build the index\n",
    "print(index.is_trained)\n",
    "index.add(xb)                  # add vectors to the index\n",
    "print(index.ntotal)"
   ]
  },
  {
   "cell_type": "code",
   "execution_count": 3,
   "metadata": {},
   "outputs": [
    {
     "name": "stdout",
     "output_type": "stream",
     "text": [
      "[[  0 393 363  78]\n",
      " [  1 555 277 364]\n",
      " [  2 304 101  13]\n",
      " [  3 173  18 182]\n",
      " [  4 288 370 531]]\n",
      "[[0.        7.1751733 7.2076297 7.251163 ]\n",
      " [0.        6.3235645 6.684581  6.7999454]\n",
      " [0.        5.7964087 6.3917365 7.2815123]\n",
      " [0.        7.2779055 7.527987  7.6628466]\n",
      " [0.        6.7638035 7.2951207 7.368815 ]]\n",
      "[[ 381  207  210  477]\n",
      " [ 526  911  142   72]\n",
      " [ 838  527 1290  425]\n",
      " [ 196  184  164  359]\n",
      " [ 526  377  120  425]]\n",
      "[[ 9900 10500  9309  9831]\n",
      " [11055 10895 10812 11321]\n",
      " [11353 11103 10164  9787]\n",
      " [10571 10664 10632  9638]\n",
      " [ 9628  9554 10036  9582]]\n"
     ]
    }
   ],
   "source": [
    "#search\n",
    "\n",
    "k = 4                          # we want to see 4 nearest neighbors\n",
    "D, I = index.search(xb[:5], k) # sanity check\n",
    "print(I)\n",
    "print(D)\n",
    "D, I = index.search(xq, k)     # actual search\n",
    "print(I[:5])                   # neighbors of the 5 first queries\n",
    "print(I[-5:])                  # neighbors of the 5 last queries"
   ]
  },
  {
   "cell_type": "markdown",
   "metadata": {},
   "source": [
    "# random 10 vectors"
   ]
  },
  {
   "cell_type": "code",
   "execution_count": 1,
   "metadata": {},
   "outputs": [],
   "source": [
    "import os\n",
    "import numpy as np\n",
    "import faiss\n",
    "\n",
    "# FAISS 인덱스 초기화\n",
    "# L2 거리 (유클리디안 거리) 기준 인덱스 생성\n",
    "index = faiss.IndexFlatL2(5)  # 벡터 차원 5\n"
   ]
  },
  {
   "cell_type": "code",
   "execution_count": 2,
   "metadata": {},
   "outputs": [
    {
     "name": "stdout",
     "output_type": "stream",
     "text": [
      "FAISS 인덱스에 10개의 벡터가 추가되었습니다.\n"
     ]
    }
   ],
   "source": [
    "# 벡터 생성\n",
    "example_vectors = np.random.randn(10, 5).astype('float32')  # FAISS는 float32를 요구\n",
    "example_ids = [f\"vec_{i}\" for i in range(len(example_vectors))]\n",
    "\n",
    "# 벡터 삽입\n",
    "index.add(example_vectors)  # 벡터 추가\n",
    "print(f\"FAISS 인덱스에 {index.ntotal}개의 벡터가 추가되었습니다.\")\n",
    "\n",
    "# ID와 벡터 인덱스 매핑\n",
    "id_to_index = {i: example_ids[i] for i in range(len(example_vectors))}\n",
    "\n",
    "# 인덱스 저장\n",
    "faiss.write_index(index, \"faiss_index.bin\")"
   ]
  },
  {
   "cell_type": "code",
   "execution_count": 3,
   "metadata": {},
   "outputs": [
    {
     "name": "stdout",
     "output_type": "stream",
     "text": [
      "\n",
      "Top 5 Nearest Vectors:\n",
      "Rank 1: ID = vec_7, Distance = 2.33762526512146\n",
      "Rank 2: ID = vec_6, Distance = 2.458592176437378\n",
      "Rank 3: ID = vec_8, Distance = 2.7448859214782715\n",
      "Rank 4: ID = vec_9, Distance = 2.774972438812256\n",
      "Rank 5: ID = vec_0, Distance = 2.900031089782715\n"
     ]
    }
   ],
   "source": [
    "# 저장된 인덱스 불러오기\n",
    "index = faiss.read_index(\"faiss_index.bin\")\n",
    "\n",
    "# 벡터 검색\n",
    "test_vec = np.random.randn(1, 5).astype('float32')  # 검색할 벡터\n",
    "k = 5  # 상위 5개 유사 벡터 검색\n",
    "\n",
    "# 검색 수행\n",
    "distances, indices = index.search(test_vec, k)\n",
    "\n",
    "# 결과 출력\n",
    "def show_results(test_vec, distances, indices):\n",
    "    for rank, (dist, idx) in enumerate(zip(distances[0], indices[0])):\n",
    "        vector_id = id_to_index[idx]\n",
    "        print(f\"Rank {rank + 1}: ID = {vector_id}, Distance = {dist}\")\n",
    "\n",
    "print(\"\\nTop 5 Nearest Vectors:\")\n",
    "show_results(test_vec, distances, indices)"
   ]
  },
  {
   "cell_type": "markdown",
   "metadata": {},
   "source": [
    "# Faster Search"
   ]
  },
  {
   "cell_type": "code",
   "execution_count": 4,
   "metadata": {},
   "outputs": [
    {
     "name": "stdout",
     "output_type": "stream",
     "text": [
      "[[ 9900  9309  9810 10048]\n",
      " [11055 10895 10812 11321]\n",
      " [11353 10164  9787 10719]\n",
      " [10571 10664 10632 10203]\n",
      " [ 9628  9554  9582 10304]]\n",
      "[[ 9900 10500  9309  9831]\n",
      " [11055 10895 10812 11321]\n",
      " [11353 11103 10164  9787]\n",
      " [10571 10664 10632  9638]\n",
      " [ 9628  9554 10036  9582]]\n"
     ]
    }
   ],
   "source": [
    "nlist = 100\n",
    "k = 4\n",
    "quantizer = faiss.IndexFlatL2(d)  # the other index\n",
    "index = faiss.IndexIVFFlat(quantizer, d, nlist)\n",
    "assert not index.is_trained\n",
    "index.train(xb)\n",
    "assert index.is_trained\n",
    "\n",
    "index.add(xb)                  # add may be a bit slower as well\n",
    "D, I = index.search(xq, k)     # actual search\n",
    "print(I[-5:])                  # neighbors of the 5 last queries\n",
    "index.nprobe = 10              # default nprobe is 1, try a few more\n",
    "D, I = index.search(xq, k)\n",
    "print(I[-5:])                  # neighbors of the 5 last queries"
   ]
  },
  {
   "cell_type": "markdown",
   "metadata": {},
   "source": [
    "# Lower Memory"
   ]
  },
  {
   "cell_type": "code",
   "execution_count": 5,
   "metadata": {},
   "outputs": [
    {
     "name": "stdout",
     "output_type": "stream",
     "text": [
      "[[   0   78  424  753]\n",
      " [   1 1063  555  617]\n",
      " [   2  304  134  179]\n",
      " [   3   64  527 1057]\n",
      " [   4  288  531  827]]\n",
      "[[1.5518408 6.273082  6.416301  6.5346537]\n",
      " [1.4250197 5.6698246 6.129957  6.5875382]\n",
      " [1.7222786 5.677806  6.116646  6.123891 ]\n",
      " [1.8276348 6.7033954 6.9841585 7.0637865]\n",
      " [1.5124168 5.6538734 6.3072824 6.457743 ]]\n",
      "[[ 9853  9966 10914 10437]\n",
      " [10765 10403  9014 10240]\n",
      " [11291 10600 11383 10494]\n",
      " [10005 10664 10122 10125]\n",
      " [ 9905  9229 10304 10370]]\n"
     ]
    }
   ],
   "source": [
    "nlist = 100\n",
    "m = 8                             # number of subquantizers\n",
    "k = 4\n",
    "quantizer = faiss.IndexFlatL2(d)  # this remains the same\n",
    "index = faiss.IndexIVFPQ(quantizer, d, nlist, m, 8)\n",
    "                                    # 8 specifies that each sub-vector is encoded as 8 bits\n",
    "index.train(xb)\n",
    "index.add(xb)\n",
    "D, I = index.search(xb[:5], k) # sanity check\n",
    "print(I)\n",
    "print(D)\n",
    "index.nprobe = 10              # make comparable with experiment above\n",
    "D, I = index.search(xq, k)     # search\n",
    "print(I[-5:])"
   ]
  }
 ],
 "metadata": {
  "kernelspec": {
   "display_name": "pg_venv",
   "language": "python",
   "name": "python3"
  },
  "language_info": {
   "codemirror_mode": {
    "name": "ipython",
    "version": 3
   },
   "file_extension": ".py",
   "mimetype": "text/x-python",
   "name": "python",
   "nbconvert_exporter": "python",
   "pygments_lexer": "ipython3",
   "version": "3.12.4"
  }
 },
 "nbformat": 4,
 "nbformat_minor": 2
}
