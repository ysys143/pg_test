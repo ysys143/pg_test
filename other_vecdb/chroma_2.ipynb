{
 "cells": [
  {
   "cell_type": "markdown",
   "metadata": {},
   "source": [
    "# Connection"
   ]
  },
  {
   "cell_type": "markdown",
   "metadata": {},
   "source": [
    "### persistent client - local database"
   ]
  },
  {
   "cell_type": "code",
   "execution_count": 86,
   "metadata": {},
   "outputs": [],
   "source": [
    "import chromadb\n",
    "client = chromadb.PersistentClient(path=\"./chroma_storage\")"
   ]
  },
  {
   "cell_type": "code",
   "execution_count": 87,
   "metadata": {},
   "outputs": [
    {
     "data": {
      "text/plain": [
       "1734346193362968000"
      ]
     },
     "execution_count": 87,
     "metadata": {},
     "output_type": "execute_result"
    }
   ],
   "source": [
    "client.heartbeat() # returns a nanosecond heartbeat. Useful for making sure the client remains connected.\n",
    "# client.reset() # Empties and completely resets the database. ⚠️ This is destructive and not reversible."
   ]
  },
  {
   "cell_type": "code",
   "execution_count": 88,
   "metadata": {},
   "outputs": [
    {
     "data": {
      "text/plain": [
       "Settings(environment='', chroma_api_impl='chromadb.api.segment.SegmentAPI', chroma_server_nofile=None, chroma_server_thread_pool_size=40, tenant_id='default', topic_namespace='default', chroma_server_host=None, chroma_server_headers=None, chroma_server_http_port=None, chroma_server_ssl_enabled=False, chroma_server_ssl_verify=None, chroma_server_api_default_path=<APIVersion.V2: '/api/v2'>, chroma_server_cors_allow_origins=[], is_persistent=True, persist_directory='./chroma_storage', chroma_memory_limit_bytes=0, chroma_segment_cache_policy=None, allow_reset=False, chroma_auth_token_transport_header=None, chroma_client_auth_provider=None, chroma_client_auth_credentials=None, chroma_server_auth_ignore_paths={'APIVersion.V2': ['GET'], 'APIVersion.V2/heartbeat': ['GET'], 'APIVersion.V2/version': ['GET'], 'APIVersion.V1': ['GET'], 'APIVersion.V1/heartbeat': ['GET'], 'APIVersion.V1/version': ['GET']}, chroma_overwrite_singleton_tenant_database_access_from_auth=False, chroma_server_authn_provider=None, chroma_server_authn_credentials=None, chroma_server_authn_credentials_file=None, chroma_server_authz_provider=None, chroma_server_authz_config=None, chroma_server_authz_config_file=None, chroma_product_telemetry_impl='chromadb.telemetry.product.posthog.Posthog', chroma_telemetry_impl='chromadb.telemetry.product.posthog.Posthog', anonymized_telemetry=True, chroma_otel_collection_endpoint='', chroma_otel_service_name='chromadb', chroma_otel_collection_headers={}, chroma_otel_granularity=None, migrations='apply', migrations_hash_algorithm='md5', chroma_segment_directory_impl='chromadb.segment.impl.distributed.segment_directory.RendezvousHashSegmentDirectory', chroma_memberlist_provider_impl='chromadb.segment.impl.distributed.segment_directory.CustomResourceMemberlistProvider', worker_memberlist_name='query-service-memberlist', chroma_server_grpc_port=None, chroma_sysdb_impl='chromadb.db.impl.sqlite.SqliteDB', chroma_producer_impl='chromadb.db.impl.sqlite.SqliteDB', chroma_consumer_impl='chromadb.db.impl.sqlite.SqliteDB', chroma_segment_manager_impl='chromadb.segment.impl.manager.local.LocalSegmentManager', chroma_executor_impl='chromadb.execution.executor.local.LocalExecutor', chroma_quota_provider_impl=None, chroma_rate_limiting_provider_impl=None, chroma_quota_enforcer_impl='chromadb.quota.simple_quota_enforcer.SimpleQuotaEnforcer', chroma_rate_limit_enforcer_impl='chromadb.rate_limit.simple_rate_limit.SimpleRateLimitEnforcer', chroma_logservice_request_timeout_seconds=3, chroma_sysdb_request_timeout_seconds=3, chroma_query_request_timeout_seconds=60, chroma_db_impl=None, chroma_collection_assignment_policy_impl='chromadb.ingest.impl.simple_policy.SimpleAssignmentPolicy', chroma_coordinator_host='localhost', chroma_logservice_host='localhost', chroma_logservice_port=50052)"
      ]
     },
     "execution_count": 88,
     "metadata": {},
     "output_type": "execute_result"
    }
   ],
   "source": [
    "client.get_settings()"
   ]
  },
  {
   "cell_type": "markdown",
   "metadata": {},
   "source": [
    "### HttpClient : client-server mode"
   ]
  },
  {
   "cell_type": "raw",
   "metadata": {
    "vscode": {
     "languageId": "raw"
    }
   },
   "source": [
    "chroma run --host localhost --port 8000 --path \"./chroma_storage\""
   ]
  },
  {
   "cell_type": "markdown",
   "metadata": {},
   "source": [
    "http client"
   ]
  },
  {
   "cell_type": "raw",
   "metadata": {
    "vscode": {
     "languageId": "raw"
    }
   },
   "source": [
    "import chromadb\n",
    "chroma_client = chromadb.HttpClient(host='localhost', port=8000)"
   ]
  },
  {
   "cell_type": "markdown",
   "metadata": {},
   "source": [
    "async HTTP client"
   ]
  },
  {
   "cell_type": "raw",
   "metadata": {
    "vscode": {
     "languageId": "raw"
    }
   },
   "source": [
    "# python 파일에서 실행\n",
    "import asyncio\n",
    "import chromadb\n",
    "\n",
    "async def main():\n",
    "    client = await chromadb.AsyncHttpClient()\n",
    "    collection = await client.create_collection(name=\"my_collection\")\n",
    "\n",
    "    await collection.add(\n",
    "        documents=[\"hello world\"],\n",
    "        ids=[\"id1\"]\n",
    "    )\n",
    "\n",
    "asyncio.run(main())"
   ]
  },
  {
   "cell_type": "markdown",
   "metadata": {},
   "source": [
    "Using the Python HTTP-only client#"
   ]
  },
  {
   "cell_type": "raw",
   "metadata": {
    "vscode": {
     "languageId": "raw"
    }
   },
   "source": [
    "import chromadb\n",
    "# Example setup of the client to connect to your chroma server\n",
    "client = chromadb.HttpClient(host='localhost', port=8000)\n",
    "\n",
    "# Or for async usage:\n",
    "async def main():\n",
    "    client = await chromadb.AsyncHttpClient(host='localhost', port=8000)"
   ]
  },
  {
   "cell_type": "markdown",
   "metadata": {},
   "source": [
    "# Collection"
   ]
  },
  {
   "cell_type": "markdown",
   "metadata": {},
   "source": [
    "### Creating, inspecting, and deleting Collections"
   ]
  },
  {
   "cell_type": "code",
   "execution_count": 89,
   "metadata": {},
   "outputs": [],
   "source": [
    "from chromadb.utils import embedding_functions as ef\n",
    "\n",
    "# embedding_function의 기본값은 Sentence Transformers all-MiniLM-L6-v2\n",
    "# default_ef = embedding_functions.DefaultEmbeddingFunction()\n",
    "# sentence_transformer_ef = embedding_functions.SentenceTransformerEmbeddingFunction(model_name=\"all-MiniLM-L6-v2\")\n",
    "\n",
    "api_key = open('/Users/jaesolshin/Documents/GitHub/pg_test/API_KEY', 'r').read()\n",
    "openai_ef = ef.OpenAIEmbeddingFunction(\n",
    "                api_key=api_key,\n",
    "                model_name=\"text-embedding-3-small\"\n",
    "            )\n"
   ]
  },
  {
   "cell_type": "code",
   "execution_count": 90,
   "metadata": {},
   "outputs": [
    {
     "data": {
      "text/plain": [
       "[Collection(name=manual), Collection(name=my_collection)]"
      ]
     },
     "execution_count": 90,
     "metadata": {},
     "output_type": "execute_result"
    }
   ],
   "source": [
    "collection = client.create_collection(name=\"my_collection\", embedding_function=openai_ef)\n",
    "client.list_collections()\n"
   ]
  },
  {
   "cell_type": "code",
   "execution_count": 91,
   "metadata": {},
   "outputs": [
    {
     "data": {
      "text/plain": [
       "[Collection(name=manual)]"
      ]
     },
     "execution_count": 91,
     "metadata": {},
     "output_type": "execute_result"
    }
   ],
   "source": [
    "client.delete_collection(name=\"my_collection\")\n",
    "client.list_collections()"
   ]
  },
  {
   "cell_type": "code",
   "execution_count": 92,
   "metadata": {},
   "outputs": [],
   "source": [
    "# collection = client.get_collection(name=\"test\") # Get a collection object from an existing collection, by name. Will raise an exception if it's not found.\n",
    "collection = client.get_or_create_collection(name=\"test\") # Get a collection object from an existing collection, by name. If it doesn't exist, create it."
   ]
  },
  {
   "cell_type": "code",
   "execution_count": 93,
   "metadata": {},
   "outputs": [
    {
     "data": {
      "text/plain": [
       "Collection(id=UUID('0b768187-48ee-4853-8ae1-43a4bea6a573'), name='test', configuration_json={'hnsw_configuration': {'space': 'l2', 'ef_construction': 100, 'ef_search': 10, 'num_threads': 14, 'M': 16, 'resize_factor': 1.2, 'batch_size': 100, 'sync_threshold': 1000, '_type': 'HNSWConfigurationInternal'}, '_type': 'CollectionConfigurationInternal'}, metadata=None, dimension=None, tenant='default_tenant', database='default_database', version=0, log_position=0)"
      ]
     },
     "execution_count": 93,
     "metadata": {},
     "output_type": "execute_result"
    }
   ],
   "source": [
    "collection.get_model()"
   ]
  },
  {
   "cell_type": "code",
   "execution_count": 94,
   "metadata": {},
   "outputs": [
    {
     "data": {
      "text/plain": [
       "{'ids': [],\n",
       " 'embeddings': array([], dtype=float64),\n",
       " 'documents': [],\n",
       " 'uris': None,\n",
       " 'data': None,\n",
       " 'metadatas': [],\n",
       " 'included': [<IncludeEnum.embeddings: 'embeddings'>,\n",
       "  <IncludeEnum.documents: 'documents'>,\n",
       "  <IncludeEnum.metadatas: 'metadatas'>]}"
      ]
     },
     "execution_count": 94,
     "metadata": {},
     "output_type": "execute_result"
    }
   ],
   "source": [
    "collection.peek() # returns a list of the first 10 items in the collection"
   ]
  },
  {
   "cell_type": "code",
   "execution_count": 95,
   "metadata": {},
   "outputs": [
    {
     "data": {
      "text/plain": [
       "0"
      ]
     },
     "execution_count": 95,
     "metadata": {},
     "output_type": "execute_result"
    }
   ],
   "source": [
    "collection.count() # returns the number of items in the collection"
   ]
  },
  {
   "cell_type": "code",
   "execution_count": 96,
   "metadata": {},
   "outputs": [],
   "source": [
    "collection.modify(name=\"mytest\") # Rename the collection: 'test'->'mytest'"
   ]
  },
  {
   "cell_type": "code",
   "execution_count": 97,
   "metadata": {},
   "outputs": [
    {
     "data": {
      "text/plain": [
       "[Collection(name=manual), Collection(name=mytest)]"
      ]
     },
     "execution_count": 97,
     "metadata": {},
     "output_type": "execute_result"
    }
   ],
   "source": [
    "client.list_collections()"
   ]
  },
  {
   "cell_type": "code",
   "execution_count": 98,
   "metadata": {},
   "outputs": [],
   "source": [
    "client.delete_collection(name=\"mytest\") "
   ]
  },
  {
   "cell_type": "markdown",
   "metadata": {},
   "source": [
    "### Changing the distance function"
   ]
  },
  {
   "cell_type": "code",
   "execution_count": 99,
   "metadata": {},
   "outputs": [],
   "source": [
    "# create_collection에서 metadata를 통해 거리계산방식을 지정할 수 있다\n",
    "collection = client.create_collection(\n",
    "        name=\"test\",\n",
    "        metadata={\"hnsw:space\": \"cosine\"}, # l2 is the default\n",
    "        embedding_function=openai_ef\n",
    ")"
   ]
  },
  {
   "cell_type": "code",
   "execution_count": null,
   "metadata": {},
   "outputs": [],
   "source": [
    "# \"hnsw:space\" - 거리 측정방식을 지정. \"l2\", \"ip\", \"cosine\". 디폴트는 \"l2\".\n",
    "# \"hnsw:construction_df\" - 인덱스를 생성할 때 고려하는 후보 이웃의 수를 지정. 양의 정수. 디폴트는 100.\n",
    "# \"hnsw:M\" - 그래프에서 각 노드가 가질 수 있는 최대 연결(이웃 노드)의 개수. 2~100. 디폴트는 16.\n",
    "# \"hnsw:search_ef\" - 검색할 때 고려하는 이웃의 개수. 양의 정수. 디폴트는 10. 콜렉션 생성 이후에도 수정 가능.\n",
    "# \"hnsw:num_threads\" -  HNSW 알고리즘이 사용하는 쓰레드의 개수. 양의 정수. 디폴트는 CPU 코어수. 콜렉션 생성 이후에도 수정 가능.\n",
    "# \"hnsw:resize_factor\" - 인덱스 내부 데이터 구조가 확장될 때의 크기 배율. 양의 정수. 디폴트는 1.2. 콜렉션 생성 이후에도 수정 가능. \n",
    "# \"hnsw:batch_size\" - 인덱스에 데이터를 추가하거나 검색할 때 한 번에 처리할 데이터의 양. 양수 < sync_threshold. 디폴트는 1.2. 콜렉션 생성 이후에도 수정 가능. \n",
    "# \"hnsw:sync_threshold\" - 인덱스의 변경 사항을 디스크에 동기화할 빈도. 양수. 디폴트는 1000. 콜렉션 생성 이후에도 수정 가능. \n",
    "\n",
    "collection = client.create_collection(\n",
    "        name=\"test\",\n",
    "        metadata={\n",
    "            \"hnsw:space\": \"cosine\",\n",
    "            \"hnsw:construction_df\":100,\n",
    "            \"hnsw:M\":16,\n",
    "            \"hnsw:search_ef\":10,\n",
    "            \"hnsw:num_threads\":4,\n",
    "            \"hnsw:resize_factor\":1.2,\n",
    "            \"hnsw:batch_size\":100,\n",
    "            \"hnsw:sync_threshold\":1000\n",
    "        }, # l2 is the default\n",
    "        embedding_function=openai_ef\n",
    ")\n",
    "\n",
    "# configure_collection.py Line 117 metadata 딕셔너리의 value 값을 수정"
   ]
  },
  {
   "cell_type": "code",
   "execution_count": 100,
   "metadata": {},
   "outputs": [
    {
     "data": {
      "text/plain": [
       "[Collection(name=manual), Collection(name=test)]"
      ]
     },
     "execution_count": 100,
     "metadata": {},
     "output_type": "execute_result"
    }
   ],
   "source": [
    "client.list_collections()"
   ]
  },
  {
   "cell_type": "code",
   "execution_count": 101,
   "metadata": {},
   "outputs": [
    {
     "data": {
      "text/plain": [
       "Collection(id=UUID('a2323777-b7cf-4dc2-a56e-704f290c397b'), name='test', configuration_json={'hnsw_configuration': {'space': 'l2', 'ef_construction': 100, 'ef_search': 10, 'num_threads': 14, 'M': 16, 'resize_factor': 1.2, 'batch_size': 100, 'sync_threshold': 1000, '_type': 'HNSWConfigurationInternal'}, '_type': 'CollectionConfigurationInternal'}, metadata={'hnsw:space': 'cosine'}, dimension=None, tenant='default_tenant', database='default_database', version=0, log_position=0)"
      ]
     },
     "execution_count": 101,
     "metadata": {},
     "output_type": "execute_result"
    }
   ],
   "source": [
    "collection.get_model()"
   ]
  },
  {
   "cell_type": "markdown",
   "metadata": {},
   "source": [
    "# Insert"
   ]
  },
  {
   "cell_type": "markdown",
   "metadata": {},
   "source": [
    "### Adding data to a Collection"
   ]
  },
  {
   "cell_type": "markdown",
   "metadata": {},
   "source": [
    "#### use embedding function"
   ]
  },
  {
   "cell_type": "code",
   "execution_count": 102,
   "metadata": {},
   "outputs": [],
   "source": [
    "# documents : 임베딩할 문서 내용\n",
    "# metadatas : 메타 데이터\n",
    "# ids : 문서ID\n",
    "# embeddings 인자를 넣지 않으면 collection 생성시 정의된 embedding function에 따라 자동으로 document를 임베딩함\n",
    "collection.add(\n",
    "    documents=[\"lorem ipsum...\", \"doc2\", \"doc3\"],\n",
    "    metadatas=[{\"chapter\": \"3\", \"verse\": \"16\"}, {\"chapter\": \"3\", \"verse\": \"5\"}, {\"chapter\": \"29\", \"verse\": \"11\"}],\n",
    "    ids=[\"id1\", \"id2\", \"id3\"]\n",
    ")"
   ]
  },
  {
   "cell_type": "code",
   "execution_count": 103,
   "metadata": {},
   "outputs": [],
   "source": [
    "result = collection.peek()"
   ]
  },
  {
   "cell_type": "code",
   "execution_count": 104,
   "metadata": {},
   "outputs": [
    {
     "data": {
      "text/plain": [
       "{'ids': ['id1', 'id2', 'id3'],\n",
       " 'embeddings': array([[ 0.04966333,  0.03326806, -0.01821254, ...,  0.00498756,\n",
       "          0.03791074, -0.01797377],\n",
       "        [ 0.02054628,  0.02163102,  0.01030505, ..., -0.01190823,\n",
       "         -0.00529609, -0.00301694],\n",
       "        [ 0.01418145,  0.04145983,  0.03606211, ..., -0.00342532,\n",
       "          0.00275474,  0.01248431]]),\n",
       " 'documents': ['lorem ipsum...', 'doc2', 'doc3'],\n",
       " 'uris': None,\n",
       " 'data': None,\n",
       " 'metadatas': [{'chapter': '3', 'verse': '16'},\n",
       "  {'chapter': '3', 'verse': '5'},\n",
       "  {'chapter': '29', 'verse': '11'}],\n",
       " 'included': [<IncludeEnum.embeddings: 'embeddings'>,\n",
       "  <IncludeEnum.documents: 'documents'>,\n",
       "  <IncludeEnum.metadatas: 'metadatas'>]}"
      ]
     },
     "execution_count": 104,
     "metadata": {},
     "output_type": "execute_result"
    }
   ],
   "source": [
    "collection.peek()"
   ]
  },
  {
   "cell_type": "code",
   "execution_count": 105,
   "metadata": {},
   "outputs": [
    {
     "data": {
      "text/plain": [
       "3"
      ]
     },
     "execution_count": 105,
     "metadata": {},
     "output_type": "execute_result"
    }
   ],
   "source": [
    "collection.count()"
   ]
  },
  {
   "cell_type": "code",
   "execution_count": 106,
   "metadata": {},
   "outputs": [
    {
     "data": {
      "text/plain": [
       "1536"
      ]
     },
     "execution_count": 106,
     "metadata": {},
     "output_type": "execute_result"
    }
   ],
   "source": [
    "len(result['embeddings'][0])"
   ]
  },
  {
   "cell_type": "code",
   "execution_count": 107,
   "metadata": {},
   "outputs": [],
   "source": [
    "# 메타데이터는 없어도 삽입이 가능하다\n",
    "collection.add(\n",
    "    documents=[\"doc4\", \"doc5\", \"doc6\"],\n",
    "    ids=[\"id4\", \"id5\", \"id6\"]\n",
    ")"
   ]
  },
  {
   "cell_type": "code",
   "execution_count": 108,
   "metadata": {},
   "outputs": [
    {
     "data": {
      "text/plain": [
       "{'ids': ['id1', 'id2', 'id3', 'id4', 'id5', 'id6'],\n",
       " 'embeddings': array([[ 0.04966333,  0.03326806, -0.01821254, ...,  0.00498756,\n",
       "          0.03791074, -0.01797377],\n",
       "        [ 0.02054628,  0.02163102,  0.01030505, ..., -0.01190823,\n",
       "         -0.00529609, -0.00301694],\n",
       "        [ 0.01418145,  0.04145983,  0.03606211, ..., -0.00342532,\n",
       "          0.00275474,  0.01248431],\n",
       "        [ 0.01773529,  0.02958861,  0.02347423, ..., -0.02935619,\n",
       "          0.01712742,  0.01691289],\n",
       "        [ 0.00792155,  0.05334781,  0.00661152, ..., -0.01848947,\n",
       "          0.01628125, -0.01284624],\n",
       "        [ 0.01972202,  0.03384865,  0.05426145, ...,  0.01204563,\n",
       "          0.0128573 , -0.00704173]]),\n",
       " 'documents': ['lorem ipsum...', 'doc2', 'doc3', 'doc4', 'doc5', 'doc6'],\n",
       " 'uris': None,\n",
       " 'data': None,\n",
       " 'metadatas': [{'chapter': '3', 'verse': '16'},\n",
       "  {'chapter': '3', 'verse': '5'},\n",
       "  {'chapter': '29', 'verse': '11'},\n",
       "  None,\n",
       "  None,\n",
       "  None],\n",
       " 'included': [<IncludeEnum.embeddings: 'embeddings'>,\n",
       "  <IncludeEnum.documents: 'documents'>,\n",
       "  <IncludeEnum.metadatas: 'metadatas'>]}"
      ]
     },
     "execution_count": 108,
     "metadata": {},
     "output_type": "execute_result"
    }
   ],
   "source": [
    "collection.peek()"
   ]
  },
  {
   "cell_type": "markdown",
   "metadata": {},
   "source": [
    "#### manually insert"
   ]
  },
  {
   "cell_type": "code",
   "execution_count": 109,
   "metadata": {},
   "outputs": [],
   "source": [
    "client.delete_collection(name=\"manual\")"
   ]
  },
  {
   "cell_type": "code",
   "execution_count": 110,
   "metadata": {},
   "outputs": [],
   "source": [
    "# \"hnsw:space\" : \"l2\", \"ip\", \"cosine\"\n",
    "collection_manual = client.create_collection(name=\"manual\")"
   ]
  },
  {
   "cell_type": "code",
   "execution_count": 111,
   "metadata": {},
   "outputs": [
    {
     "data": {
      "text/plain": [
       "[Collection(name=test), Collection(name=manual)]"
      ]
     },
     "execution_count": 111,
     "metadata": {},
     "output_type": "execute_result"
    }
   ],
   "source": [
    "client.list_collections()"
   ]
  },
  {
   "cell_type": "code",
   "execution_count": 112,
   "metadata": {},
   "outputs": [],
   "source": [
    "# 수동으로 데이터 추가 가능\n",
    "collection_manual.add(\n",
    "    documents=[\"doc1\", \"doc2\", \"doc3\"],\n",
    "    embeddings=[[1.1, 2.3, 3.2], [4.5, 6.9, 4.4], [1.1, 2.3, 3.2]],\n",
    "    metadatas=[{\"chapter\": \"3\", \"verse\": \"16\"}, {\"chapter\": \"3\", \"verse\": \"5\"}, {\"chapter\": \"29\", \"verse\": \"11\"}],\n",
    "    ids=[\"id1\", \"id2\", \"id3\"]\n",
    ")\n"
   ]
  },
  {
   "cell_type": "code",
   "execution_count": 113,
   "metadata": {},
   "outputs": [
    {
     "data": {
      "text/plain": [
       "{'ids': ['id1', 'id2', 'id3'],\n",
       " 'embeddings': array([[1.10000002, 2.29999995, 3.20000005],\n",
       "        [4.5       , 6.9000001 , 4.4000001 ],\n",
       "        [1.10000002, 2.29999995, 3.20000005]]),\n",
       " 'documents': ['doc1', 'doc2', 'doc3'],\n",
       " 'uris': None,\n",
       " 'data': None,\n",
       " 'metadatas': [{'chapter': '3', 'verse': '16'},\n",
       "  {'chapter': '3', 'verse': '5'},\n",
       "  {'chapter': '29', 'verse': '11'}],\n",
       " 'included': [<IncludeEnum.embeddings: 'embeddings'>,\n",
       "  <IncludeEnum.documents: 'documents'>,\n",
       "  <IncludeEnum.metadatas: 'metadatas'>]}"
      ]
     },
     "execution_count": 113,
     "metadata": {},
     "output_type": "execute_result"
    }
   ],
   "source": [
    "collection_manual.peek()"
   ]
  },
  {
   "cell_type": "code",
   "execution_count": 114,
   "metadata": {},
   "outputs": [],
   "source": [
    "# documents 없이 추가\n",
    "# chromadb에는 vector만 저장하고 별도의 장소에 id-documents로 관리\n",
    "collection_manual.add(\n",
    "    embeddings=[[1.1, 2.3, 3.2], [4.5, 6.9, 4.4], [1.1, 2.3, 3.2]],\n",
    "    metadatas=[{\"chapter\": \"3\", \"verse\": \"16\"}, {\"chapter\": \"3\", \"verse\": \"5\"}, {\"chapter\": \"29\", \"verse\": \"11\"}],\n",
    "    ids=[\"id4\", \"id5\", \"id6\"]\n",
    ")"
   ]
  },
  {
   "cell_type": "code",
   "execution_count": 115,
   "metadata": {},
   "outputs": [
    {
     "data": {
      "text/plain": [
       "{'ids': ['id1', 'id2', 'id3', 'id4', 'id5', 'id6'],\n",
       " 'embeddings': array([[1.10000002, 2.29999995, 3.20000005],\n",
       "        [4.5       , 6.9000001 , 4.4000001 ],\n",
       "        [1.10000002, 2.29999995, 3.20000005],\n",
       "        [1.10000002, 2.29999995, 3.20000005],\n",
       "        [4.5       , 6.9000001 , 4.4000001 ],\n",
       "        [1.10000002, 2.29999995, 3.20000005]]),\n",
       " 'documents': ['doc1', 'doc2', 'doc3', None, None, None],\n",
       " 'uris': None,\n",
       " 'data': None,\n",
       " 'metadatas': [{'chapter': '3', 'verse': '16'},\n",
       "  {'chapter': '3', 'verse': '5'},\n",
       "  {'chapter': '29', 'verse': '11'},\n",
       "  {'chapter': '3', 'verse': '16'},\n",
       "  {'chapter': '3', 'verse': '5'},\n",
       "  {'chapter': '29', 'verse': '11'}],\n",
       " 'included': [<IncludeEnum.embeddings: 'embeddings'>,\n",
       "  <IncludeEnum.documents: 'documents'>,\n",
       "  <IncludeEnum.metadatas: 'metadatas'>]}"
      ]
     },
     "execution_count": 115,
     "metadata": {},
     "output_type": "execute_result"
    }
   ],
   "source": [
    "# 'id4', 'id5', 'id6'\n",
    "collection_manual.peek()"
   ]
  },
  {
   "cell_type": "code",
   "execution_count": 116,
   "metadata": {},
   "outputs": [
    {
     "data": {
      "text/plain": [
       "6"
      ]
     },
     "execution_count": 116,
     "metadata": {},
     "output_type": "execute_result"
    }
   ],
   "source": [
    "collection_manual.count()"
   ]
  },
  {
   "cell_type": "markdown",
   "metadata": {},
   "source": [
    "#### Update"
   ]
  },
  {
   "cell_type": "code",
   "execution_count": 125,
   "metadata": {},
   "outputs": [
    {
     "data": {
      "text/plain": [
       "{'ids': ['id1', 'id2', 'id3'],\n",
       " 'embeddings': None,\n",
       " 'documents': ['doc1', 'doc2', 'doc3'],\n",
       " 'uris': None,\n",
       " 'data': None,\n",
       " 'metadatas': [{'chapter': '3', 'verse': '16'},\n",
       "  {'chapter': '3', 'verse': '5'},\n",
       "  {'chapter': '29', 'verse': '11'}],\n",
       " 'included': [<IncludeEnum.documents: 'documents'>,\n",
       "  <IncludeEnum.metadatas: 'metadatas'>]}"
      ]
     },
     "execution_count": 125,
     "metadata": {},
     "output_type": "execute_result"
    }
   ],
   "source": [
    "collection_manual.get(\n",
    "    ids=['id1', 'id2', 'id3']\n",
    ")"
   ]
  },
  {
   "cell_type": "code",
   "execution_count": 126,
   "metadata": {},
   "outputs": [],
   "source": [
    "collection_manual.update(\n",
    "    ids=[\"id1\", \"id2\", \"id3\"],\n",
    "    embeddings=[[1.1, 2.3, 3.2], [4.5, 6.9, 4.4], [1.1, 2.3, 3.2]],\n",
    "    metadatas=[{\"chapter\": \"3\", \"verse\": \"16\"}, {\"chapter\": \"3\", \"verse\": \"5\"}, {\"chapter\": \"29\", \"verse\": \"11\"}],\n",
    "    documents=[\"doc_A\", \"doc_B\", \"doc_C\"],\n",
    ")"
   ]
  },
  {
   "cell_type": "code",
   "execution_count": 127,
   "metadata": {},
   "outputs": [
    {
     "data": {
      "text/plain": [
       "{'ids': ['id1', 'id2', 'id3', 'id4', 'id5', 'id6'],\n",
       " 'embeddings': array([[1.10000002, 2.29999995, 3.20000005],\n",
       "        [4.5       , 6.9000001 , 4.4000001 ],\n",
       "        [1.10000002, 2.29999995, 3.20000005],\n",
       "        [1.10000002, 2.29999995, 3.20000005],\n",
       "        [4.5       , 6.9000001 , 4.4000001 ],\n",
       "        [1.10000002, 2.29999995, 3.20000005]]),\n",
       " 'documents': ['doc_A', 'doc_B', 'doc_C', None, None, None],\n",
       " 'uris': None,\n",
       " 'data': None,\n",
       " 'metadatas': [{'chapter': '3', 'verse': '16'},\n",
       "  {'chapter': '3', 'verse': '5'},\n",
       "  {'chapter': '29', 'verse': '11'},\n",
       "  {'chapter': '3', 'verse': '16'},\n",
       "  {'chapter': '3', 'verse': '5'},\n",
       "  {'chapter': '29', 'verse': '11'}],\n",
       " 'included': [<IncludeEnum.embeddings: 'embeddings'>,\n",
       "  <IncludeEnum.documents: 'documents'>,\n",
       "  <IncludeEnum.metadatas: 'metadatas'>]}"
      ]
     },
     "execution_count": 127,
     "metadata": {},
     "output_type": "execute_result"
    }
   ],
   "source": [
    "collection_manual.peek()"
   ]
  },
  {
   "cell_type": "code",
   "execution_count": 143,
   "metadata": {},
   "outputs": [],
   "source": [
    "# upsert : update or insert\n",
    "collection_manual.upsert(\n",
    "    ids=[\"id1\", \"id7\", \"id8\"],\n",
    "    embeddings=[[1.5, -2.0, -3.0], [3.0, 0.0, 0.1], [2.1, 4.3, 1.2]],\n",
    "    metadatas=[{\"chapter\": \"3\", \"verse\": \"16\"}, {\"chapter\": \"8\", \"verse\": \"1\"}, {\"chapter\": \"8\", \"verse\": \"2\"}],\n",
    "    documents=[\"doc_AA\", \"doc_B\", \"doc_C\"],\n",
    ")"
   ]
  },
  {
   "cell_type": "code",
   "execution_count": 140,
   "metadata": {},
   "outputs": [
    {
     "data": {
      "text/plain": [
       "{'ids': ['id1', 'id2', 'id3', 'id4', 'id5', 'id6', 'id7', 'id8'],\n",
       " 'embeddings': array([[ 1.5       , -2.        , -3.        ],\n",
       "        [ 4.5       ,  6.9000001 ,  4.4000001 ],\n",
       "        [ 1.10000002,  2.29999995,  3.20000005],\n",
       "        [ 1.10000002,  2.29999995,  3.20000005],\n",
       "        [ 4.5       ,  6.9000001 ,  4.4000001 ],\n",
       "        [ 1.10000002,  2.29999995,  3.20000005],\n",
       "        [ 3.        ,  0.        ,  0.1       ],\n",
       "        [ 2.0999999 ,  4.30000019,  1.20000005]]),\n",
       " 'documents': ['doc_AA', 'doc_B', 'doc_C', None, None, None, 'doc_B', 'doc_C'],\n",
       " 'uris': None,\n",
       " 'data': None,\n",
       " 'metadatas': [{'chapter': '3', 'verse': '16'},\n",
       "  {'chapter': '3', 'verse': '5'},\n",
       "  {'chapter': '29', 'verse': '11'},\n",
       "  {'chapter': '3', 'verse': '16'},\n",
       "  {'chapter': '3', 'verse': '5'},\n",
       "  {'chapter': '29', 'verse': '11'},\n",
       "  {'chapter': '8', 'verse': '1'},\n",
       "  {'chapter': '8', 'verse': '2'}],\n",
       " 'included': [<IncludeEnum.embeddings: 'embeddings'>,\n",
       "  <IncludeEnum.documents: 'documents'>,\n",
       "  <IncludeEnum.metadatas: 'metadatas'>]}"
      ]
     },
     "execution_count": 140,
     "metadata": {},
     "output_type": "execute_result"
    }
   ],
   "source": [
    "collection_manual.peek()"
   ]
  },
  {
   "cell_type": "markdown",
   "metadata": {},
   "source": [
    "#### delete"
   ]
  },
  {
   "cell_type": "code",
   "execution_count": 144,
   "metadata": {},
   "outputs": [],
   "source": [
    "collection_manual.delete(\n",
    "    ids=[\"id7\", \"id8\"],\n",
    "\twhere={\"chapter\": \"8\"}\n",
    ")"
   ]
  },
  {
   "cell_type": "code",
   "execution_count": 147,
   "metadata": {},
   "outputs": [
    {
     "data": {
      "text/plain": [
       "{'ids': ['id1', 'id2', 'id3', 'id4', 'id5', 'id6'],\n",
       " 'embeddings': array([[ 1.5       , -2.        , -3.        ],\n",
       "        [ 4.5       ,  6.9000001 ,  4.4000001 ],\n",
       "        [ 1.10000002,  2.29999995,  3.20000005],\n",
       "        [ 1.10000002,  2.29999995,  3.20000005],\n",
       "        [ 4.5       ,  6.9000001 ,  4.4000001 ],\n",
       "        [ 1.10000002,  2.29999995,  3.20000005]]),\n",
       " 'documents': ['doc_AA', 'doc_B', 'doc_C', None, None, None],\n",
       " 'uris': None,\n",
       " 'data': None,\n",
       " 'metadatas': [{'chapter': '3', 'verse': '16'},\n",
       "  {'chapter': '3', 'verse': '5'},\n",
       "  {'chapter': '29', 'verse': '11'},\n",
       "  {'chapter': '3', 'verse': '16'},\n",
       "  {'chapter': '3', 'verse': '5'},\n",
       "  {'chapter': '29', 'verse': '11'}],\n",
       " 'included': [<IncludeEnum.embeddings: 'embeddings'>,\n",
       "  <IncludeEnum.documents: 'documents'>,\n",
       "  <IncludeEnum.metadatas: 'metadatas'>]}"
      ]
     },
     "execution_count": 147,
     "metadata": {},
     "output_type": "execute_result"
    }
   ],
   "source": [
    "collection_manual.peek()"
   ]
  },
  {
   "cell_type": "markdown",
   "metadata": {},
   "source": [
    "# Query"
   ]
  },
  {
   "cell_type": "code",
   "execution_count": 128,
   "metadata": {},
   "outputs": [
    {
     "name": "stderr",
     "output_type": "stream",
     "text": [
      "Number of requested results 10 is greater than number of elements in index 6, updating n_results = 6\n"
     ]
    },
    {
     "data": {
      "text/plain": [
       "{'ids': [['id2', 'id5', 'id6', 'id1', 'id3', 'id4']],\n",
       " 'embeddings': None,\n",
       " 'documents': [['doc_B', None, None, 'doc_A', 'doc_C', None]],\n",
       " 'uris': None,\n",
       " 'data': None,\n",
       " 'metadatas': [[{'chapter': '3', 'verse': '5'},\n",
       "   {'chapter': '3', 'verse': '5'},\n",
       "   {'chapter': '29', 'verse': '11'},\n",
       "   {'chapter': '3', 'verse': '16'},\n",
       "   {'chapter': '29', 'verse': '11'},\n",
       "   {'chapter': '3', 'verse': '16'}]],\n",
       " 'distances': [[146.2900129890445,\n",
       "   146.2900129890445,\n",
       "   294.05002217292827,\n",
       "   294.05002217292827,\n",
       "   294.05002217292827,\n",
       "   294.05002217292827]],\n",
       " 'included': [<IncludeEnum.distances: 'distances'>,\n",
       "  <IncludeEnum.documents: 'documents'>,\n",
       "  <IncludeEnum.metadatas: 'metadatas'>]}"
      ]
     },
     "execution_count": 128,
     "metadata": {},
     "output_type": "execute_result"
    }
   ],
   "source": [
    "collection_manual.query(\n",
    "    query_embeddings=[[11.1, 12.1, 13.1]]\n",
    ")"
   ]
  },
  {
   "cell_type": "code",
   "execution_count": 129,
   "metadata": {},
   "outputs": [
    {
     "data": {
      "text/plain": [
       "{'ids': [['id2', 'id5', 'id1']],\n",
       " 'embeddings': None,\n",
       " 'documents': [['doc_B', None, 'doc_A']],\n",
       " 'uris': None,\n",
       " 'data': None,\n",
       " 'metadatas': [[{'chapter': '3', 'verse': '5'},\n",
       "   {'chapter': '3', 'verse': '5'},\n",
       "   {'chapter': '3', 'verse': '16'}]],\n",
       " 'distances': [[146.2900129890445, 146.2900129890445, 294.05002217292827]],\n",
       " 'included': [<IncludeEnum.distances: 'distances'>,\n",
       "  <IncludeEnum.documents: 'documents'>,\n",
       "  <IncludeEnum.metadatas: 'metadatas'>]}"
      ]
     },
     "execution_count": 129,
     "metadata": {},
     "output_type": "execute_result"
    }
   ],
   "source": [
    "collection_manual.query(\n",
    "    query_embeddings=[[11.1, 12.1, 13.1]],\n",
    "    n_results=3,\n",
    "    where={\"chapter\": \"3\"}\n",
    ")\n"
   ]
  },
  {
   "cell_type": "code",
   "execution_count": 130,
   "metadata": {},
   "outputs": [
    {
     "data": {
      "text/plain": [
       "{'ids': [['id2', 'id1']],\n",
       " 'embeddings': None,\n",
       " 'documents': [['doc_B', 'doc_A']],\n",
       " 'uris': None,\n",
       " 'data': None,\n",
       " 'metadatas': [[{'chapter': '3', 'verse': '5'},\n",
       "   {'chapter': '3', 'verse': '16'}]],\n",
       " 'distances': [[146.2900129890445, 294.05002217292827]],\n",
       " 'included': [<IncludeEnum.distances: 'distances'>,\n",
       "  <IncludeEnum.documents: 'documents'>,\n",
       "  <IncludeEnum.metadatas: 'metadatas'>]}"
      ]
     },
     "execution_count": 130,
     "metadata": {},
     "output_type": "execute_result"
    }
   ],
   "source": [
    "collection_manual.query(\n",
    "    query_embeddings=[[11.1, 12.1, 13.1]],\n",
    "    n_results=3,\n",
    "    where={\"chapter\": \"3\"},\n",
    "    where_document={\"$contains\":\"doc\"}\n",
    ")\n"
   ]
  },
  {
   "cell_type": "code",
   "execution_count": 131,
   "metadata": {},
   "outputs": [
    {
     "data": {
      "text/plain": [
       "{'ids': ['id2'],\n",
       " 'embeddings': None,\n",
       " 'documents': ['doc_B'],\n",
       " 'uris': None,\n",
       " 'data': None,\n",
       " 'metadatas': [{'chapter': '3', 'verse': '5'}],\n",
       " 'included': [<IncludeEnum.documents: 'documents'>,\n",
       "  <IncludeEnum.metadatas: 'metadatas'>]}"
      ]
     },
     "execution_count": 131,
     "metadata": {},
     "output_type": "execute_result"
    }
   ],
   "source": [
    "collection_manual.get(\n",
    "    ids=['id1', 'id2'],\n",
    "    where={'verse':'5'}\n",
    ")"
   ]
  },
  {
   "cell_type": "markdown",
   "metadata": {},
   "source": [
    "## where filter"
   ]
  },
  {
   "cell_type": "markdown",
   "metadata": {},
   "source": [
    "#### Filtering by metadata"
   ]
  },
  {
   "cell_type": "code",
   "execution_count": 132,
   "metadata": {},
   "outputs": [
    {
     "name": "stderr",
     "output_type": "stream",
     "text": [
      "Number of requested results 10 is greater than number of elements in index 6, updating n_results = 6\n"
     ]
    },
    {
     "data": {
      "text/plain": [
       "{'ids': [['id4', 'id1', 'id2', 'id5']],\n",
       " 'embeddings': None,\n",
       " 'documents': [[None, 'doc_A', 'doc_B', None]],\n",
       " 'uris': None,\n",
       " 'data': None,\n",
       " 'metadatas': [[{'chapter': '3', 'verse': '16'},\n",
       "   {'chapter': '3', 'verse': '16'},\n",
       "   {'chapter': '3', 'verse': '5'},\n",
       "   {'chapter': '3', 'verse': '5'}]],\n",
       " 'distances': [[16.740000138282785,\n",
       "   16.740000138282785,\n",
       "   87.22000215530397,\n",
       "   87.22000215530397]],\n",
       " 'included': [<IncludeEnum.distances: 'distances'>,\n",
       "  <IncludeEnum.documents: 'documents'>,\n",
       "  <IncludeEnum.metadatas: 'metadatas'>]}"
      ]
     },
     "execution_count": 132,
     "metadata": {},
     "output_type": "execute_result"
    }
   ],
   "source": [
    "# without filter operators\n",
    "collection_manual.query(\n",
    "    query_embeddings=[[0,0,0]],\n",
    "    where={\"chapter\": \"3\"}\n",
    ")\n"
   ]
  },
  {
   "cell_type": "code",
   "execution_count": 133,
   "metadata": {},
   "outputs": [
    {
     "name": "stderr",
     "output_type": "stream",
     "text": [
      "Number of requested results 10 is greater than number of elements in index 6, updating n_results = 6\n"
     ]
    },
    {
     "data": {
      "text/plain": [
       "{'ids': [['id6', 'id3']],\n",
       " 'embeddings': None,\n",
       " 'documents': [[None, 'doc_C']],\n",
       " 'uris': None,\n",
       " 'data': None,\n",
       " 'metadatas': [[{'chapter': '29', 'verse': '11'},\n",
       "   {'chapter': '29', 'verse': '11'}]],\n",
       " 'distances': [[16.740000138282785, 16.740000138282785]],\n",
       " 'included': [<IncludeEnum.distances: 'distances'>,\n",
       "  <IncludeEnum.documents: 'documents'>,\n",
       "  <IncludeEnum.metadatas: 'metadatas'>]}"
      ]
     },
     "execution_count": 133,
     "metadata": {},
     "output_type": "execute_result"
    }
   ],
   "source": [
    "# $eq - equal to (string, int, float)\n",
    "# $ne - not equal to (string, int, float)\n",
    "# $gt - greater than (int, float)\n",
    "# $gte - greater than or equal to (int, float)\n",
    "# $lt - less than (int, float)\n",
    "# $lte - less than or equal to (int, float)\n",
    "\n",
    "collection_manual.query(\n",
    "    query_embeddings=[[0,0,0]],\n",
    "    where={\"chapter\": {\"$ne\":\"3\"}}\n",
    ")"
   ]
  },
  {
   "cell_type": "markdown",
   "metadata": {},
   "source": [
    "#### Filtering by document contents"
   ]
  },
  {
   "cell_type": "code",
   "execution_count": 134,
   "metadata": {},
   "outputs": [
    {
     "name": "stderr",
     "output_type": "stream",
     "text": [
      "Number of requested results 10 is greater than number of elements in index 6, updating n_results = 6\n"
     ]
    },
    {
     "data": {
      "text/plain": [
       "{'ids': [['id3', 'id1', 'id2']],\n",
       " 'embeddings': None,\n",
       " 'documents': [['doc_C', 'doc_A', 'doc_B']],\n",
       " 'uris': None,\n",
       " 'data': None,\n",
       " 'metadatas': [[{'chapter': '29', 'verse': '11'},\n",
       "   {'chapter': '3', 'verse': '16'},\n",
       "   {'chapter': '3', 'verse': '5'}]],\n",
       " 'distances': [[16.740000138282785, 16.740000138282785, 87.22000215530397]],\n",
       " 'included': [<IncludeEnum.distances: 'distances'>,\n",
       "  <IncludeEnum.documents: 'documents'>,\n",
       "  <IncludeEnum.metadatas: 'metadatas'>]}"
      ]
     },
     "execution_count": 134,
     "metadata": {},
     "output_type": "execute_result"
    }
   ],
   "source": [
    "# $contains\n",
    "collection_manual.query(\n",
    "    query_embeddings=[[0,0,0]],\n",
    "    where_document={\"$contains\":\"doc\"}\n",
    ")"
   ]
  },
  {
   "cell_type": "code",
   "execution_count": 135,
   "metadata": {},
   "outputs": [
    {
     "name": "stderr",
     "output_type": "stream",
     "text": [
      "Number of requested results 10 is greater than number of elements in index 6, updating n_results = 6\n"
     ]
    },
    {
     "data": {
      "text/plain": [
       "{'ids': [['id6', 'id4', 'id5']],\n",
       " 'embeddings': None,\n",
       " 'documents': [[None, None, None]],\n",
       " 'uris': None,\n",
       " 'data': None,\n",
       " 'metadatas': [[{'chapter': '29', 'verse': '11'},\n",
       "   {'chapter': '3', 'verse': '16'},\n",
       "   {'chapter': '3', 'verse': '5'}]],\n",
       " 'distances': [[16.740000138282785, 16.740000138282785, 87.22000215530397]],\n",
       " 'included': [<IncludeEnum.distances: 'distances'>,\n",
       "  <IncludeEnum.documents: 'documents'>,\n",
       "  <IncludeEnum.metadatas: 'metadatas'>]}"
      ]
     },
     "execution_count": 135,
     "metadata": {},
     "output_type": "execute_result"
    }
   ],
   "source": [
    "# $not_contains\n",
    "collection_manual.query(\n",
    "    query_embeddings=[[0,0,0]],\n",
    "    where_document={\"$not_contains\":\"doc\"}\n",
    ")"
   ]
  },
  {
   "cell_type": "markdown",
   "metadata": {},
   "source": [
    "#### logical operators"
   ]
  },
  {
   "cell_type": "code",
   "execution_count": 136,
   "metadata": {},
   "outputs": [
    {
     "name": "stderr",
     "output_type": "stream",
     "text": [
      "Number of requested results 10 is greater than number of elements in index 6, updating n_results = 6\n"
     ]
    },
    {
     "data": {
      "text/plain": [
       "{'ids': [['id2', 'id5']],\n",
       " 'embeddings': None,\n",
       " 'documents': [['doc_B', None]],\n",
       " 'uris': None,\n",
       " 'data': None,\n",
       " 'metadatas': [[{'chapter': '3', 'verse': '5'},\n",
       "   {'chapter': '3', 'verse': '5'}]],\n",
       " 'distances': [[87.22000215530397, 87.22000215530397]],\n",
       " 'included': [<IncludeEnum.distances: 'distances'>,\n",
       "  <IncludeEnum.documents: 'documents'>,\n",
       "  <IncludeEnum.metadatas: 'metadatas'>]}"
      ]
     },
     "execution_count": 136,
     "metadata": {},
     "output_type": "execute_result"
    }
   ],
   "source": [
    "# $and\n",
    "# $or\n",
    "collection_manual.query(\n",
    "    query_embeddings=[[0,0,0]],\n",
    "    where={\n",
    "    \"$and\": [\n",
    "        {\n",
    "            \"chapter\": {\"$eq\":\"3\"}\n",
    "        },\n",
    "        {\n",
    "            \"verse\": {\"$eq\":\"5\"}\n",
    "        }\n",
    "    ]\n",
    "    }\n",
    ")"
   ]
  },
  {
   "cell_type": "code",
   "execution_count": 137,
   "metadata": {},
   "outputs": [
    {
     "name": "stderr",
     "output_type": "stream",
     "text": [
      "Number of requested results 10 is greater than number of elements in index 6, updating n_results = 6\n"
     ]
    },
    {
     "data": {
      "text/plain": [
       "{'ids': [['id4', 'id1', 'id2', 'id5']],\n",
       " 'embeddings': None,\n",
       " 'documents': [[None, 'doc_A', 'doc_B', None]],\n",
       " 'uris': None,\n",
       " 'data': None,\n",
       " 'metadatas': [[{'chapter': '3', 'verse': '16'},\n",
       "   {'chapter': '3', 'verse': '16'},\n",
       "   {'chapter': '3', 'verse': '5'},\n",
       "   {'chapter': '3', 'verse': '5'}]],\n",
       " 'distances': [[16.740000138282785,\n",
       "   16.740000138282785,\n",
       "   87.22000215530397,\n",
       "   87.22000215530397]],\n",
       " 'included': [<IncludeEnum.distances: 'distances'>,\n",
       "  <IncludeEnum.documents: 'documents'>,\n",
       "  <IncludeEnum.metadatas: 'metadatas'>]}"
      ]
     },
     "execution_count": 137,
     "metadata": {},
     "output_type": "execute_result"
    }
   ],
   "source": [
    "# $in\n",
    "# $nin\n",
    "\n",
    "# without filter operators\n",
    "collection_manual.query(\n",
    "    query_embeddings=[[0,0,0]],\n",
    "    where={\n",
    "        \"chapter\": {\"$in\":['1','2','3']}\n",
    "    }\n",
    ")\n"
   ]
  },
  {
   "cell_type": "code",
   "execution_count": 138,
   "metadata": {},
   "outputs": [
    {
     "data": {
      "text/plain": [
       "{'ids': ['id1', 'id2', 'id3', 'id4', 'id5', 'id6'],\n",
       " 'embeddings': array([[1.10000002, 2.29999995, 3.20000005],\n",
       "        [4.5       , 6.9000001 , 4.4000001 ],\n",
       "        [1.10000002, 2.29999995, 3.20000005],\n",
       "        [1.10000002, 2.29999995, 3.20000005],\n",
       "        [4.5       , 6.9000001 , 4.4000001 ],\n",
       "        [1.10000002, 2.29999995, 3.20000005]]),\n",
       " 'documents': ['doc_A', 'doc_B', 'doc_C', None, None, None],\n",
       " 'uris': None,\n",
       " 'data': None,\n",
       " 'metadatas': [{'chapter': '3', 'verse': '16'},\n",
       "  {'chapter': '3', 'verse': '5'},\n",
       "  {'chapter': '29', 'verse': '11'},\n",
       "  {'chapter': '3', 'verse': '16'},\n",
       "  {'chapter': '3', 'verse': '5'},\n",
       "  {'chapter': '29', 'verse': '11'}],\n",
       " 'included': [<IncludeEnum.embeddings: 'embeddings'>,\n",
       "  <IncludeEnum.documents: 'documents'>,\n",
       "  <IncludeEnum.metadatas: 'metadatas'>]}"
      ]
     },
     "execution_count": 138,
     "metadata": {},
     "output_type": "execute_result"
    }
   ],
   "source": [
    "collection_manual.peek()"
   ]
  },
  {
   "cell_type": "markdown",
   "metadata": {},
   "source": [
    "# Example"
   ]
  },
  {
   "cell_type": "code",
   "execution_count": 157,
   "metadata": {},
   "outputs": [],
   "source": [
    "# 데이터 임베딩 저장을 위한 콜렉션 생성\n",
    "collection_name = \"medical\"\n",
    "collection = client.create_collection(\n",
    "    name=collection_name,\n",
    "    metadata={\n",
    "        'hnsw:space': 'cosine',            # 코사인 거리\n",
    "        'hnsw:construction_ef': 200,      # 인덱스 생성 시 후보 이웃 수\n",
    "        'hnsw:M': 32,                     # 그래프 연결성\n",
    "        'hnsw:search_ef': 50,             # 검색 시 고려할 이웃 수\n",
    "        'hnsw:resize_factor': 1.5         # 메모리 확장 배율\n",
    "    }\n",
    ")"
   ]
  },
  {
   "cell_type": "code",
   "execution_count": 158,
   "metadata": {},
   "outputs": [
    {
     "data": {
      "text/plain": [
       "[Collection(name=medical), Collection(name=test), Collection(name=manual)]"
      ]
     },
     "execution_count": 158,
     "metadata": {},
     "output_type": "execute_result"
    }
   ],
   "source": [
    "client.list_collections()"
   ]
  },
  {
   "cell_type": "code",
   "execution_count": 159,
   "metadata": {},
   "outputs": [],
   "source": [
    "# 데이터 추가\n",
    "documents = [\n",
    "    \"재초진은 뭔가요?\",\n",
    "    \"재초진은 어떤 기록을 써야 하나요?\",\n",
    "    \"외래 진료의 기준은 무엇인가요?\",\n",
    "    \"외래 진료의 수납은 어떻게 이루어지나요?\",\n",
    "    \"마약성 진통제의 관리는 어떻게 이루어지나요?\"\n",
    "]\n",
    "metadatas = [\n",
    "    {\"category\": \"진료\"},\n",
    "    {\"category\": \"진료\"},\n",
    "    {\"category\": \"외래진료\"},\n",
    "    {\"category\": \"외래진료\"},\n",
    "    {\"category\": \"약품\"},\n",
    "]\n",
    "ids = [\"doc1\", \"doc2\", \"doc3\", \"doc4\", \"doc5\"]\n",
    "\n",
    "# 데이터 임베딩 추가\n",
    "collection.add(\n",
    "    documents=documents,\n",
    "    metadatas=metadatas,\n",
    "    ids=ids\n",
    ")"
   ]
  },
  {
   "cell_type": "code",
   "execution_count": 160,
   "metadata": {},
   "outputs": [
    {
     "name": "stdout",
     "output_type": "stream",
     "text": [
      "검색 결과: ['외래 진료의 수납은 어떻게 이루어지나요?', '재초진은 어떤 기록을 써야 하나요?']\n"
     ]
    }
   ],
   "source": [
    "# 쿼리 예제\n",
    "query_text = \"외래 진료는 어떻게 이루어지나요?\"\n",
    "\n",
    "results = collection.query(\n",
    "    query_texts=[query_text],\n",
    "    n_results=2\n",
    ")\n",
    "\n",
    "# 결과 출력\n",
    "for result in results[\"documents\"]:\n",
    "    print(\"검색 결과:\", result)\n"
   ]
  },
  {
   "cell_type": "code",
   "execution_count": 162,
   "metadata": {},
   "outputs": [
    {
     "name": "stdout",
     "output_type": "stream",
     "text": [
      "검색 결과: ['외래 진료의 수납은 어떻게 이루어지나요?', '외래 진료의 기준은 무엇인가요?']\n"
     ]
    }
   ],
   "source": [
    "# 쿼리 예제\n",
    "query_text = \"외래 진료는 어떻게 이루어지나요?\"\n",
    "\n",
    "results = collection.query(\n",
    "    query_texts=[query_text],\n",
    "    n_results=2,\n",
    "    where={\"category\": \"외래진료\"}  # 카테고리 필터링\n",
    ")\n",
    "\n",
    "# 결과 출력\n",
    "for result in results[\"documents\"]:\n",
    "    print(\"검색 결과:\", result)"
   ]
  }
 ],
 "metadata": {
  "kernelspec": {
   "display_name": "pg_venv",
   "language": "python",
   "name": "python3"
  },
  "language_info": {
   "codemirror_mode": {
    "name": "ipython",
    "version": 3
   },
   "file_extension": ".py",
   "mimetype": "text/x-python",
   "name": "python",
   "nbconvert_exporter": "python",
   "pygments_lexer": "ipython3",
   "version": "3.12.4"
  }
 },
 "nbformat": 4,
 "nbformat_minor": 2
}
