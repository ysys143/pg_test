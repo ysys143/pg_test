{
 "cells": [
  {
   "cell_type": "code",
   "execution_count": 1,
   "metadata": {},
   "outputs": [],
   "source": [
    "import os\n",
    "import chromadb\n",
    "from chromadb.config import Settings\n",
    "import numpy as np"
   ]
  },
  {
   "cell_type": "code",
   "execution_count": 14,
   "metadata": {},
   "outputs": [],
   "source": [
    "# 디렉토리 경로\n",
    "directory = \"./chromadb_store\"\n",
    "\n",
    "# 디렉토리 생성\n",
    "if not os.path.exists(directory):\n",
    "    os.makedirs(directory)\n",
    "    print(f\"{directory} 디렉토리가 생성되었습니다.\")\n",
    "\n",
    "# ChromaDB 클라이언트 초기화\n",
    "client = chromadb.PersistentClient(path=directory)\n",
    "\n",
    "# 컬렉션 생성 또는 불러오기\n",
    "collection = client.get_or_create_collection(name=\"vectors\")"
   ]
  },
  {
   "cell_type": "code",
   "execution_count": 16,
   "metadata": {},
   "outputs": [
    {
     "name": "stderr",
     "output_type": "stream",
     "text": [
      "Add of existing embedding ID: vec_0\n",
      "Insert of existing embedding ID: vec_0\n",
      "Add of existing embedding ID: vec_1\n",
      "Insert of existing embedding ID: vec_1\n",
      "Add of existing embedding ID: vec_2\n",
      "Insert of existing embedding ID: vec_2\n",
      "Add of existing embedding ID: vec_3\n",
      "Insert of existing embedding ID: vec_3\n",
      "Add of existing embedding ID: vec_4\n",
      "Insert of existing embedding ID: vec_4\n",
      "Add of existing embedding ID: vec_5\n",
      "Insert of existing embedding ID: vec_5\n",
      "Add of existing embedding ID: vec_6\n",
      "Insert of existing embedding ID: vec_6\n",
      "Add of existing embedding ID: vec_7\n",
      "Insert of existing embedding ID: vec_7\n",
      "Add of existing embedding ID: vec_8\n",
      "Insert of existing embedding ID: vec_8\n",
      "Add of existing embedding ID: vec_9\n",
      "Insert of existing embedding ID: vec_9\n"
     ]
    }
   ],
   "source": [
    "# 벡터 생성\n",
    "example_vectors = np.random.randn(10, 5)\n",
    "example_ids = [f\"vec_{i}\" for i in range(len(example_vectors))]\n",
    "\n",
    "# 벡터 삽입\n",
    "for vec_id, vec in zip(example_ids, example_vectors):\n",
    "    collection.add(documents=[\"\"], embeddings=[vec.tolist()], ids=[vec_id])\n",
    "\n",
    "# 컬렉션 저장\n",
    "# collection.save(directory)\n",
    "# client.persist() "
   ]
  },
  {
   "cell_type": "code",
   "execution_count": 2,
   "metadata": {},
   "outputs": [
    {
     "name": "stderr",
     "output_type": "stream",
     "text": [
      "Add of existing embedding ID: vec_0\n",
      "Add of existing embedding ID: vec_1\n",
      "Add of existing embedding ID: vec_2\n",
      "Add of existing embedding ID: vec_3\n",
      "Add of existing embedding ID: vec_4\n",
      "Add of existing embedding ID: vec_5\n",
      "Add of existing embedding ID: vec_6\n",
      "Add of existing embedding ID: vec_7\n",
      "Add of existing embedding ID: vec_8\n",
      "Add of existing embedding ID: vec_9\n"
     ]
    },
    {
     "name": "stdout",
     "output_type": "stream",
     "text": [
      "\n",
      "Top 5 Nearest Vectors:\n",
      "Rank 1: ID = vec_7, Similarity = 1.8452194094821273\n",
      "Rank 2: ID = vec_0, Similarity = 2.7502865811213613\n",
      "Rank 3: ID = vec_3, Similarity = 4.051244203923489\n",
      "Rank 4: ID = vec_1, Similarity = 4.220194261672395\n",
      "Rank 5: ID = vec_4, Similarity = 4.360435111091731\n"
     ]
    }
   ],
   "source": [
    "# 컬렉션 로드\n",
    "# 디렉토리 경로\n",
    "directory = \"./chromadb_store\"\n",
    "\n",
    "# ChromaDB 클라이언트 초기화\n",
    "client = chromadb.PersistentClient(path=directory)\n",
    "collection = client.get_or_create_collection(name=\"vectors\")\n",
    "\n",
    "\n",
    "# 벡터 검색\n",
    "test_vec = np.random.randn(1, 5)\n",
    "test_embedding = test_vec.squeeze().tolist()\n",
    "\n",
    "retrieved = collection.query(\n",
    "    query_embeddings=[test_embedding],\n",
    "    n_results=5\n",
    ")\n",
    "\n",
    "# 결과 출력\n",
    "def show_results(results):\n",
    "    for idx, doc_id in enumerate(results[\"ids\"][0]):\n",
    "        print(f\"Rank {idx + 1}: ID = {doc_id}, Similarity = {results['distances'][0][idx]}\")\n",
    "\n",
    "print(\"\\nTop 5 Nearest Vectors:\")\n",
    "show_results(retrieved)"
   ]
  }
 ],
 "metadata": {
  "kernelspec": {
   "display_name": "venv",
   "language": "python",
   "name": "python3"
  },
  "language_info": {
   "codemirror_mode": {
    "name": "ipython",
    "version": 3
   },
   "file_extension": ".py",
   "mimetype": "text/x-python",
   "name": "python",
   "nbconvert_exporter": "python",
   "pygments_lexer": "ipython3",
   "version": "3.12.4"
  }
 },
 "nbformat": 4,
 "nbformat_minor": 2
}
