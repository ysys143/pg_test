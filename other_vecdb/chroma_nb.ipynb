{
 "cells": [
  {
   "cell_type": "code",
   "execution_count": 1,
   "metadata": {},
   "outputs": [],
   "source": [
    "import os\n",
    "import chromadb\n",
    "from chromadb.config import Settings\n",
    "import numpy as np"
   ]
  },
  {
   "cell_type": "code",
   "execution_count": 2,
   "metadata": {},
   "outputs": [],
   "source": [
    "# 디렉토리 경로\n",
    "directory = \"./chromadb_store\"\n",
    "\n",
    "# 디렉토리 생성\n",
    "if not os.path.exists(directory):\n",
    "    os.makedirs(directory)\n",
    "    print(f\"{directory} 디렉토리가 생성되었습니다.\")\n",
    "\n",
    "# ChromaDB 클라이언트 초기화\n",
    "client = chromadb.PersistentClient(path=directory)"
   ]
  },
  {
   "cell_type": "code",
   "execution_count": 25,
   "metadata": {},
   "outputs": [],
   "source": [
    "if 'vectors' in [collection.name for collection in client.list_collections()]:\n",
    "    client.delete_collection(name='vectors')"
   ]
  },
  {
   "cell_type": "code",
   "execution_count": 26,
   "metadata": {},
   "outputs": [
    {
     "data": {
      "text/plain": [
       "[Collection(name=vectors)]"
      ]
     },
     "execution_count": 26,
     "metadata": {},
     "output_type": "execute_result"
    }
   ],
   "source": [
    "# 컬렉션 생성 또는 불러오기\n",
    "collection = client.get_or_create_collection(name=\"vectors\")\n",
    "client.list_collections()"
   ]
  },
  {
   "cell_type": "code",
   "execution_count": 27,
   "metadata": {},
   "outputs": [],
   "source": [
    "# 벡터 생성\n",
    "example_vectors = np.random.randn(10, 5)\n",
    "example_documents = [f\"sample document {i}\" for i in range(len(example_vectors))]\n",
    "example_ids = [f\"vec_{i}\" for i in range(len(example_vectors))]\n",
    "\n",
    "# 벡터 삽입\n",
    "collection.add(documents=example_documents, embeddings=example_vectors, ids=example_ids)\n",
    "\n",
    "# 컬렉션 저장\n",
    "# collection.save(directory)\n",
    "# client.persist() "
   ]
  },
  {
   "cell_type": "code",
   "execution_count": 28,
   "metadata": {},
   "outputs": [
    {
     "data": {
      "text/plain": [
       "{'ids': ['vec_0',\n",
       "  'vec_1',\n",
       "  'vec_2',\n",
       "  'vec_3',\n",
       "  'vec_4',\n",
       "  'vec_5',\n",
       "  'vec_6',\n",
       "  'vec_7',\n",
       "  'vec_8',\n",
       "  'vec_9'],\n",
       " 'embeddings': array([[ 1.59536977, -0.61397947, -0.08804642,  0.72816981, -1.55269008],\n",
       "        [ 0.18454303, -1.23921904, -1.20765065,  0.06255522, -1.43636805],\n",
       "        [-0.85725213, -0.65443666, -0.25623348, -0.06123397,  1.17552041],\n",
       "        [ 1.43500446, -1.44649637,  0.16351449,  0.71396747, -0.42306057],\n",
       "        [-1.60752565,  1.35662846,  0.46060016,  0.6501992 , -0.96513175],\n",
       "        [ 0.86307282, -0.52824002,  0.56035838, -1.72723227,  0.04647429],\n",
       "        [-0.57505109,  0.55194304,  0.2247978 ,  0.55970962, -0.6725749 ],\n",
       "        [ 0.95623585, -0.28018151, -1.3899158 ,  0.24777311, -0.60780641],\n",
       "        [ 0.26057911,  0.76790535,  0.54963665, -0.67935278, -0.3289228 ],\n",
       "        [ 0.14010454, -0.13143459, -1.38994113,  1.05679132,  1.00810657]]),\n",
       " 'documents': ['sample document 0',\n",
       "  'sample document 1',\n",
       "  'sample document 2',\n",
       "  'sample document 3',\n",
       "  'sample document 4',\n",
       "  'sample document 5',\n",
       "  'sample document 6',\n",
       "  'sample document 7',\n",
       "  'sample document 8',\n",
       "  'sample document 9'],\n",
       " 'uris': None,\n",
       " 'data': None,\n",
       " 'metadatas': [None, None, None, None, None, None, None, None, None, None],\n",
       " 'included': [<IncludeEnum.embeddings: 'embeddings'>,\n",
       "  <IncludeEnum.documents: 'documents'>,\n",
       "  <IncludeEnum.metadatas: 'metadatas'>]}"
      ]
     },
     "execution_count": 28,
     "metadata": {},
     "output_type": "execute_result"
    }
   ],
   "source": [
    "collection.peek()"
   ]
  },
  {
   "cell_type": "code",
   "execution_count": 30,
   "metadata": {},
   "outputs": [],
   "source": [
    "# # 컬렉션 로드\n",
    "# # 디렉토리 경로\n",
    "# directory = \"./chromadb_store\"\n",
    "\n",
    "# # ChromaDB 클라이언트 초기화\n",
    "# client = chromadb.PersistentClient(path=directory)\n",
    "# collection = client.get_or_create_collection(name=\"vectors\")\n",
    "\n",
    "# 쿼리 벡터\n",
    "test_vec = np.random.randn(1, 5)\n",
    "test_vec = test_vec.squeeze().tolist()\n",
    "\n",
    "# 벡터 검색\n",
    "retrieved = collection.query(\n",
    "    query_embeddings=[test_vec],\n",
    "    n_results=5\n",
    ")"
   ]
  },
  {
   "cell_type": "code",
   "execution_count": 34,
   "metadata": {},
   "outputs": [
    {
     "data": {
      "text/plain": [
       "{'ids': [['vec_4', 'vec_6', 'vec_1', 'vec_8', 'vec_0']],\n",
       " 'embeddings': None,\n",
       " 'documents': [['sample document 4',\n",
       "   'sample document 6',\n",
       "   'sample document 1',\n",
       "   'sample document 8',\n",
       "   'sample document 0']],\n",
       " 'uris': None,\n",
       " 'data': None,\n",
       " 'metadatas': [[None, None, None, None, None]],\n",
       " 'distances': [[7.0268096492272525,\n",
       "   9.538948616633581,\n",
       "   13.643803731587097,\n",
       "   14.545661968288563,\n",
       "   19.30009059336754]],\n",
       " 'included': [<IncludeEnum.distances: 'distances'>,\n",
       "  <IncludeEnum.documents: 'documents'>,\n",
       "  <IncludeEnum.metadatas: 'metadatas'>]}"
      ]
     },
     "execution_count": 34,
     "metadata": {},
     "output_type": "execute_result"
    }
   ],
   "source": [
    "retrieved "
   ]
  },
  {
   "cell_type": "code",
   "execution_count": 41,
   "metadata": {},
   "outputs": [
    {
     "name": "stdout",
     "output_type": "stream",
     "text": [
      "\n",
      "Top 5 Nearest Vectors:\n",
      "1. ID = vec_4, Document = sample document 4, Similarity = 7.0268096492272525\n",
      "2. ID = vec_6, Document = sample document 6, Similarity = 9.538948616633581\n",
      "3. ID = vec_1, Document = sample document 1, Similarity = 13.643803731587097\n",
      "4. ID = vec_8, Document = sample document 8, Similarity = 14.545661968288563\n",
      "5. ID = vec_0, Document = sample document 0, Similarity = 19.30009059336754\n"
     ]
    }
   ],
   "source": [
    "\n",
    "# 결과 출력\n",
    "def show_results(results):\n",
    "    for idx, (id_, doc, similarity) in enumerate(zip(results['ids'][0], results['documents'][0], results['distances'][0])):\n",
    "        print(f\"{idx + 1}. ID = {id_}, Document = {doc}, Similarity = {similarity}\")\n",
    "\n",
    "print(\"\\nTop 5 Nearest Vectors:\")\n",
    "show_results(retrieved)"
   ]
  }
 ],
 "metadata": {
  "kernelspec": {
   "display_name": "venv",
   "language": "python",
   "name": "python3"
  },
  "language_info": {
   "codemirror_mode": {
    "name": "ipython",
    "version": 3
   },
   "file_extension": ".py",
   "mimetype": "text/x-python",
   "name": "python",
   "nbconvert_exporter": "python",
   "pygments_lexer": "ipython3",
   "version": "3.12.4"
  }
 },
 "nbformat": 4,
 "nbformat_minor": 2
}
