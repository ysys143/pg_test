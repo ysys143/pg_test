{
 "cells": [
  {
   "cell_type": "code",
   "execution_count": 1,
   "metadata": {},
   "outputs": [],
   "source": [
    "import psycopg2"
   ]
  },
  {
   "cell_type": "code",
   "execution_count": 21,
   "metadata": {},
   "outputs": [
    {
     "name": "stderr",
     "output_type": "stream",
     "text": [
      "100%|██████████| 10/10 [00:04<00:00,  2.33it/s]\n"
     ]
    }
   ],
   "source": [
    "import pandas as pd\n",
    "import os\n",
    "from time import time\n",
    "from tqdm import tqdm\n",
    "import psycopg2\n",
    "from langchain_openai import OpenAIEmbeddings\n",
    "\n",
    "# OpenAI API Key 설정\n",
    "os.environ['OPENAI_API_KEY'] = open('API_KEY', 'r').read()\n",
    "embeddings = OpenAIEmbeddings(model=\"text-embedding-3-small\")\n",
    "\n",
    "# 데이터 로드 및 전처리\n",
    "imdb = pd.read_csv('movie_metadata.csv')\n",
    "imdb = imdb.dropna()\n",
    "texts = imdb['plot_keywords'][:10].tolist()\n",
    "\n",
    "# 임베딩 생성 및 저장\n",
    "embeddings_list = []\n",
    "for text in tqdm(texts):\n",
    "    embeddings_list.append(embeddings.embed_query(text))\n",
    "\n",
    "# 검색할 문자열\n",
    "test_words = \"cyberpunk|dystopia|paraplegic|marine|warrior\"  # 검색할 문자열\n",
    "test_vec = embeddings.embed_query(test_words)\n",
    "emb_dim = len(test_vec)\n",
    "k = 5  # 상위 5개 유사 벡터 검색\n",
    "\n",
    "# 결과 조회용 함수\n",
    "def show(rows):\n",
    "    for row in rows:\n",
    "        print(row)\n",
    "\n",
    "# 임베딩 파일을 임시 CSV로 저장\n",
    "import csv\n",
    "filename = \"imdb_embedding.csv\"\n",
    "with open(filename, \"w\", newline=\"\") as csvfile:\n",
    "    writer = csv.writer(csvfile)\n",
    "    writer.writerow([\"keywords\", \"embedding\"])\n",
    "    for i in range(len(embeddings_list)):\n",
    "        writer.writerow([texts[i], embeddings_list[i]])\n"
   ]
  },
  {
   "cell_type": "code",
   "execution_count": null,
   "metadata": {},
   "outputs": [],
   "source": [
    "# PostgreSQL 연결\n",
    "conn = psycopg2.connect(host='192.168.0.47', dbname='postgres', user='postgres', password='postgres1016', port=55432)\n",
    "cursor = conn.cursor()\n",
    "\n",
    "# 테이블 생성\n",
    "cursor.execute(\"DROP TABLE IF EXISTS imdb2;\")\n",
    "cursor.execute(\"CREATE TABLE IF NOT EXISTS imdb2 (id serial primary key, keywords text, embedding vector({}));\".format(len(embeddings_list[0])))\n",
    "conn.commit()\n",
    "\n",
    "# 커밋 및 연결 종료\n",
    "conn.close()\n",
    "\n",
    "print(\"Data successfully loaded into PostgreSQL using COPY.\")"
   ]
  },
  {
   "cell_type": "code",
   "execution_count": 26,
   "metadata": {},
   "outputs": [
    {
     "name": "stdout",
     "output_type": "stream",
     "text": [
      "COPY 10\n",
      "Data successfully loaded into PostgreSQL using \\COPY.\n"
     ]
    }
   ],
   "source": [
    "# shell에서 psql 실행하여 \\COPY 명령 실행\n",
    "import subprocess\n",
    "\n",
    "# 환경 변수에 패스워드 설정\n",
    "os.environ[\"PGPASSWORD\"] = \"postgres1016\" \n",
    "\n",
    "# 업로드할 파일 위치\n",
    "csv_path = os.path.join(os.getcwd(), \"imdb_embedding.csv\") \n",
    "\n",
    "# COPY 명령어를 사용하여 데이터 로드\n",
    "copy_command = (\n",
    "    f\"psql -h 192.168.0.47 -p 55432 -d postgres -U postgres -c \"\n",
    "    f\"\\\"\\\\COPY imdb2 (keywords, embedding) FROM '{csv_path}' WITH (FORMAT CSV, HEADER TRUE);\\\"\"\n",
    ")\n",
    "subprocess.run(copy_command, shell=True, check=True)\n",
    "\n",
    "print(\"Data successfully loaded into PostgreSQL using \\\\COPY.\")"
   ]
  },
  {
   "cell_type": "code",
   "execution_count": 28,
   "metadata": {},
   "outputs": [
    {
     "name": "stdout",
     "output_type": "stream",
     "text": [
      "time: 0.014770030975341797 \n",
      "\n",
      "(1, 'avatar|future|marine|native|paraplegic', 0.7837149072848963)\n",
      "(3, 'bomb|espionage|sequel|spy|terrorist', 1.065572671360541)\n",
      "(5, 'alien|american civil war|male nipple|mars|princess', 1.073223860135542)\n",
      "(4, 'deception|imprisonment|lawlessness|police officer|terrorist plot', 1.111155303764997)\n",
      "(8, 'artificial intelligence|based on comic book|captain america|marvel cinematic universe|superhero', 1.114257170587567)\n"
     ]
    }
   ],
   "source": [
    "# PG에 연결\n",
    "conn = psycopg2.connect(host='192.168.0.47', dbname='postgres', user='postgres', password='postgres1016', port=55432)\n",
    "cursor = conn.cursor()\n",
    "\n",
    "# 유사도 기반 검색\n",
    "# <-> : L2거리\n",
    "s = time()\n",
    "cursor.execute(\"\"\"\n",
    "    SELECT id,\n",
    "        keywords,\n",
    "        embedding <-> '{}' AS similarity\n",
    "    FROM imdb2\n",
    "    ORDER BY similarity\n",
    "    LIMIT 5\n",
    "\"\"\".format(test_vec))\n",
    "\n",
    "time_spent = time() - s\n",
    "print(\"time:\", time_spent, \"\\n\")\n",
    "\n",
    "result = cursor.fetchall()\n",
    "show(result)\n",
    "\n",
    "# PG에 커밋\n",
    "conn.commit()\n",
    "conn.close()"
   ]
  }
 ],
 "metadata": {
  "kernelspec": {
   "display_name": "pg_venv",
   "language": "python",
   "name": "python3"
  },
  "language_info": {
   "codemirror_mode": {
    "name": "ipython",
    "version": 3
   },
   "file_extension": ".py",
   "mimetype": "text/x-python",
   "name": "python",
   "nbconvert_exporter": "python",
   "pygments_lexer": "ipython3",
   "version": "3.12.4"
  }
 },
 "nbformat": 4,
 "nbformat_minor": 2
}
