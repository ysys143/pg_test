{
 "cells": [
  {
   "cell_type": "code",
   "execution_count": 52,
   "metadata": {},
   "outputs": [],
   "source": [
    "import psycopg2\n",
    "import numpy as np\n",
    "from langchain.embeddings import OpenAIEmbeddings"
   ]
  },
  {
   "cell_type": "markdown",
   "metadata": {},
   "source": [
    "# 구조화된 문자열"
   ]
  },
  {
   "cell_type": "code",
   "execution_count": 53,
   "metadata": {},
   "outputs": [],
   "source": [
    "# texts for content\n",
    "texts = [\n",
    "    \"Type: Desktop, OS: Ubuntu, GPU: NVIDIA, CPU: AMD, RAM: 64GB, SSD: 2TB\",\n",
    "    \"Type: Desktop, OS: Linux Mint, GPU: NVIDIA, CPU: AMD, RAM: 64GB, SSD: 2TB\",\n",
    "    \"Type: Desktop, OS: Manjaro, GPU: NVIDIA, CPU: AMD, RAM: 64GB, SSD: 2TB\",\n",
    "    \"Type: Desktop, OS: Windows, GPU: NVIDIA, CPU: AMD, RAM: 64GB, SSD: 2TB\",\n",
    "    \"Type: Desktop, OS: Fedora, GPU: AMD, CPU: AMD, RAM: 16GB, SSD: 1TB\",\n",
    "    \"Type: Desktop, OS: Windows, GPU: NVIDIA, CPU: AMD, RAM: 16GB, SSD: 1TB\",\n",
    "    \"Type: Desktop, OS: Ubuntu, GPU: AMD, CPU: AMD, RAM: 32GB, SSD: 1TB\",\n",
    "    \"Type: Laptop, OS: Windows, GPU: NVIDIA, CPU: Intel, RAM: 16GB, SSD: 1TB\",\n",
    "    \"Type: Laptop, OS: Ubuntu, GPU: AMD, CPU: AMD, RAM: 16GB, SSD: 500GB\",\n",
    "    \"Type: Laptop, OS: Mac OS, GPU: NVIDIA, CPU: AMD, RAM: 16GB, SSD: 1TB\"\n",
    "]\n",
    "\n",
    "def show(rows):\n",
    "    for row in rows:\n",
    "        print(row)"
   ]
  },
  {
   "cell_type": "code",
   "execution_count": 57,
   "metadata": {},
   "outputs": [],
   "source": [
    "# OpenAI 임베딩 사용\n",
    "import os\n",
    "os.environ['OPENAI_API_KEY'] = open('API_KEY', 'r').read()\n",
    "embeddings = OpenAIEmbeddings()"
   ]
  },
  {
   "cell_type": "code",
   "execution_count": 55,
   "metadata": {},
   "outputs": [],
   "source": [
    "# embeddings_list에 텍스트의 순서와 동일하게 임베딩을 생성해서 저장\n",
    "embeddings_list = []\n",
    "\n",
    "for text in texts:\n",
    "    embeddings_list.append(embeddings.embed_query(text))\n",
    "\n",
    "emb_dim = len(embeddings_list[0])\n",
    "\n",
    "# PG에 연결\n",
    "conn = psycopg2.connect(host='192.168.0.47', dbname='postgres', user='postgres', password='postgres1016', port=55432)\n",
    "cursor = conn.cursor()\n",
    "\n",
    "# items라는 이름의 테이블 생성\n",
    "# embedding vector열은 emb_dim 차원의 벡터\n",
    "cursor.execute(\"CREATE TABLE IF NOT EXISTS items (id serial primary key, content text, embedding vector({}));\".format(emb_dim))\n",
    "\n",
    "# content와 embedding을 짝지워 INSERT\n",
    "for i in range(len(embeddings_list)):\n",
    "    content= texts[i]\n",
    "    embedding = embeddings_list[i]\n",
    "    cursor.execute(\"INSERT INTO items (content, embedding) VALUES (%s, %s)\", (content, embedding))\n",
    "\n",
    "# PG에 커밋\n",
    "conn.commit()"
   ]
  },
  {
   "cell_type": "code",
   "execution_count": 56,
   "metadata": {},
   "outputs": [
    {
     "name": "stdout",
     "output_type": "stream",
     "text": [
      "(23, 'Type: Desktop, OS: Manjaro, GPU: NVIDIA, CPU: AMD, RAM: 64GB, SSD: 2TB')\n",
      "(3, 'Type: Desktop, OS: Manjaro, GPU: NVIDIA, CPU: AMD, RAM: 64GB, SSD: 2TB')\n",
      "(13, 'Type: Desktop, OS: Manjaro, GPU: NVIDIA, CPU: AMD, RAM: 64GB, SSD: 2TB')\n",
      "(11, 'Type: Desktop, OS: Ubuntu, GPU: NVIDIA, CPU: AMD, RAM: 64GB, SSD: 2TB')\n",
      "(1, 'Type: Desktop, OS: Ubuntu, GPU: NVIDIA, CPU: AMD, RAM: 64GB, SSD: 2TB')\n"
     ]
    }
   ],
   "source": [
    "# 자연어 쿼리와 임베딩 벡터\n",
    "query_text = \"Type: Desktop, OS: Arch Linux, GPU: NVIDA, CPU: AMD, RAM: 64GB, SSD: 2TB\"\n",
    "query_embedding = embeddings.embed_query(query_text)\n",
    "\n",
    "# query_embedding과 L2거리 기준으로 유사한 행을 5개 찾아서 반환\n",
    "cursor.execute(\"\"\"SELECT id, content\n",
    "FROM items\n",
    "ORDER BY embedding <-> %s::vector\n",
    "LIMIT 5\n",
    "\"\"\", (query_embedding,))\n",
    "\n",
    "# results에 쿼리 결과를 저장하고 show()를 통해 확인\n",
    "results = cursor.fetchall()\n",
    "show(results)\n",
    "\n",
    "# PG 연결 해제\n",
    "cursor.close()\n",
    "conn.close()"
   ]
  }
 ],
 "metadata": {
  "kernelspec": {
   "display_name": "pg_venv",
   "language": "python",
   "name": "python3"
  },
  "language_info": {
   "codemirror_mode": {
    "name": "ipython",
    "version": 3
   },
   "file_extension": ".py",
   "mimetype": "text/x-python",
   "name": "python",
   "nbconvert_exporter": "python",
   "pygments_lexer": "ipython3",
   "version": "3.12.4"
  }
 },
 "nbformat": 4,
 "nbformat_minor": 2
}
