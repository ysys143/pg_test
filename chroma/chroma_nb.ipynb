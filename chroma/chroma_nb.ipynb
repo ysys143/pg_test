{
 "cells": [
  {
   "cell_type": "code",
   "execution_count": 9,
   "metadata": {},
   "outputs": [],
   "source": [
    "import chromadb\n",
    "from chromadb.config import Settings\n",
    "import numpy as np"
   ]
  },
  {
   "cell_type": "code",
   "execution_count": 18,
   "metadata": {},
   "outputs": [],
   "source": [
    "# ChromaDB 클라이언트 초기화 (새로운 설정 방식)\n",
    "client = chromadb.Client(\n",
    "    Settings(\n",
    "        persist_directory=\"./chromadb_store\",  # 데이터를 저장할 디렉토리\n",
    "        anonymized_telemetry=False  # 익명 데이터 수집 비활성화\n",
    "    )\n",
    ")\n",
    "\n",
    "# 컬렉션 생성 또는 불러오기\n",
    "collection = client.get_or_create_collection(name=\"vectors\")"
   ]
  },
  {
   "cell_type": "code",
   "execution_count": 20,
   "metadata": {},
   "outputs": [],
   "source": [
    "# 컬렉션 초기화 또는 생성\n",
    "collection = client.get_or_create_collection(name=\"vectors\")"
   ]
  },
  {
   "cell_type": "code",
   "execution_count": 24,
   "metadata": {},
   "outputs": [
    {
     "data": {
      "text/plain": [
       "{'ids': ['vec_0',\n",
       "  'vec_1',\n",
       "  'vec_2',\n",
       "  'vec_3',\n",
       "  'vec_4',\n",
       "  'vec_5',\n",
       "  'vec_6',\n",
       "  'vec_7',\n",
       "  'vec_8',\n",
       "  'vec_9',\n",
       "  'bulk_vec_0',\n",
       "  'bulk_vec_1',\n",
       "  'bulk_vec_2',\n",
       "  'bulk_vec_3',\n",
       "  'bulk_vec_4',\n",
       "  'bulk_vec_5',\n",
       "  'bulk_vec_6',\n",
       "  'bulk_vec_7',\n",
       "  'bulk_vec_8',\n",
       "  'bulk_vec_9'],\n",
       " 'embeddings': None,\n",
       " 'documents': ['',\n",
       "  '',\n",
       "  '',\n",
       "  '',\n",
       "  '',\n",
       "  '',\n",
       "  '',\n",
       "  '',\n",
       "  '',\n",
       "  '',\n",
       "  '',\n",
       "  '',\n",
       "  '',\n",
       "  '',\n",
       "  '',\n",
       "  '',\n",
       "  '',\n",
       "  '',\n",
       "  '',\n",
       "  ''],\n",
       " 'uris': None,\n",
       " 'data': None,\n",
       " 'metadatas': [None,\n",
       "  None,\n",
       "  None,\n",
       "  None,\n",
       "  None,\n",
       "  None,\n",
       "  None,\n",
       "  None,\n",
       "  None,\n",
       "  None,\n",
       "  None,\n",
       "  None,\n",
       "  None,\n",
       "  None,\n",
       "  None,\n",
       "  None,\n",
       "  None,\n",
       "  None,\n",
       "  None,\n",
       "  None],\n",
       " 'included': [<IncludeEnum.documents: 'documents'>,\n",
       "  <IncludeEnum.metadatas: 'metadatas'>]}"
      ]
     },
     "execution_count": 24,
     "metadata": {},
     "output_type": "execute_result"
    }
   ],
   "source": [
    "collection.get()"
   ]
  },
  {
   "cell_type": "code",
   "execution_count": 19,
   "metadata": {},
   "outputs": [
    {
     "name": "stderr",
     "output_type": "stream",
     "text": [
      "Insert of existing embedding ID: vec_0\n",
      "Add of existing embedding ID: vec_0\n",
      "Insert of existing embedding ID: vec_1\n",
      "Add of existing embedding ID: vec_1\n",
      "Insert of existing embedding ID: vec_2\n",
      "Add of existing embedding ID: vec_2\n",
      "Insert of existing embedding ID: vec_3\n",
      "Add of existing embedding ID: vec_3\n",
      "Insert of existing embedding ID: vec_4\n",
      "Add of existing embedding ID: vec_4\n",
      "Insert of existing embedding ID: vec_5\n",
      "Add of existing embedding ID: vec_5\n",
      "Insert of existing embedding ID: vec_6\n",
      "Add of existing embedding ID: vec_6\n",
      "Insert of existing embedding ID: vec_7\n",
      "Add of existing embedding ID: vec_7\n",
      "Insert of existing embedding ID: vec_8\n",
      "Add of existing embedding ID: vec_8\n",
      "Insert of existing embedding ID: vec_9\n",
      "Add of existing embedding ID: vec_9\n",
      "Insert of existing embedding ID: vec_0\n",
      "Insert of existing embedding ID: vec_1\n",
      "Insert of existing embedding ID: vec_2\n",
      "Insert of existing embedding ID: vec_3\n",
      "Insert of existing embedding ID: vec_4\n",
      "Insert of existing embedding ID: vec_5\n",
      "Insert of existing embedding ID: vec_6\n",
      "Insert of existing embedding ID: vec_7\n",
      "Insert of existing embedding ID: vec_8\n",
      "Insert of existing embedding ID: vec_9\n",
      "Add of existing embedding ID: vec_0\n",
      "Add of existing embedding ID: vec_1\n",
      "Add of existing embedding ID: vec_2\n",
      "Add of existing embedding ID: vec_3\n",
      "Add of existing embedding ID: vec_4\n",
      "Add of existing embedding ID: vec_5\n",
      "Add of existing embedding ID: vec_6\n",
      "Add of existing embedding ID: vec_7\n",
      "Add of existing embedding ID: vec_8\n",
      "Add of existing embedding ID: vec_9\n"
     ]
    }
   ],
   "source": [
    "# 벡터 생성\n",
    "example_vectors = np.random.randn(10, 5)\n",
    "example_ids = [f\"vec_{i}\" for i in range(len(example_vectors))]\n",
    "\n",
    "# 벡터 삽입\n",
    "for vec_id, vec in zip(example_ids, example_vectors):\n",
    "    collection.add(documents=[\"\"], embeddings=[vec.tolist()], ids=[vec_id])\n",
    "\n",
    "# 대량 삽입\n",
    "vec_ids = [f\"vec_{i}\" for i in range(len(example_vectors))]\n",
    "embeddings = example_vectors.tolist()\n",
    "collection.add(documents=[\"\" for _ in vec_ids], embeddings=embeddings, ids=vec_ids)"
   ]
  },
  {
   "cell_type": "code",
   "execution_count": 17,
   "metadata": {},
   "outputs": [
    {
     "name": "stdout",
     "output_type": "stream",
     "text": [
      "\n",
      "Top 5 Nearest Vectors:\n",
      "Rank 1: ID = vec_5, Similarity = 2.779158353805542\n",
      "Rank 2: ID = bulk_vec_5, Similarity = 2.779158353805542\n",
      "Rank 3: ID = vec_0, Similarity = 2.8039004802703857\n",
      "Rank 4: ID = bulk_vec_0, Similarity = 2.8039004802703857\n",
      "Rank 5: ID = vec_9, Similarity = 3.1163179874420166\n"
     ]
    }
   ],
   "source": [
    "# 벡터 검색\n",
    "test_vec = np.random.randn(1, 5)\n",
    "test_embedding = test_vec.squeeze().tolist()\n",
    "\n",
    "retrieved = collection.query(\n",
    "    query_embeddings=[test_embedding],\n",
    "    n_results=5\n",
    ")\n",
    "\n",
    "# 결과 출력\n",
    "def show_results(results):\n",
    "    for idx, doc_id in enumerate(results[\"ids\"][0]):\n",
    "        print(f\"Rank {idx + 1}: ID = {doc_id}, Similarity = {results['distances'][0][idx]}\")\n",
    "\n",
    "print(\"\\nTop 5 Nearest Vectors:\")\n",
    "show_results(retrieved)\n"
   ]
  },
  {
   "cell_type": "code",
   "execution_count": null,
   "metadata": {},
   "outputs": [],
   "source": []
  }
 ],
 "metadata": {
  "kernelspec": {
   "display_name": "venv",
   "language": "python",
   "name": "python3"
  },
  "language_info": {
   "codemirror_mode": {
    "name": "ipython",
    "version": 3
   },
   "file_extension": ".py",
   "mimetype": "text/x-python",
   "name": "python",
   "nbconvert_exporter": "python",
   "pygments_lexer": "ipython3",
   "version": "3.12.4"
  }
 },
 "nbformat": 4,
 "nbformat_minor": 2
}
