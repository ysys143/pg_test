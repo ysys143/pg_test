{
 "cells": [
  {
   "cell_type": "markdown",
   "metadata": {},
   "source": [
    "# 기본방식으로 연결"
   ]
  },
  {
   "cell_type": "code",
   "execution_count": 10,
   "metadata": {},
   "outputs": [],
   "source": [
    "import psycopg2\n",
    "import numpy as np\n",
    "\n",
    "# 연결\n",
    "#conn = psycopg2.connect(host='localhost', dbname='postgres', user='admin', password='1234', port=5432)\n",
    "conn = psycopg2.connect(host='192.168.0.47', dbname='postgres', user='postgres', password='postgres1016', port=55432)\n",
    "cursor = conn.cursor()"
   ]
  },
  {
   "cell_type": "code",
   "execution_count": 11,
   "metadata": {},
   "outputs": [],
   "source": [
    "# pgvector 확장\n",
    "query = \"\"\"\n",
    "        CREATE EXTENSION IF NOT EXISTS vector;\n",
    "        \"\"\"\n",
    "\n",
    "cursor.execute(query)"
   ]
  },
  {
   "cell_type": "code",
   "execution_count": 12,
   "metadata": {},
   "outputs": [],
   "source": [
    "# vector 테이블 생성\n",
    "cursor.execute(\"CREATE TABLE IF NOT EXISTS vectors (id bigserial PRIMARY KEY, embedding vector(5));\")"
   ]
  },
  {
   "cell_type": "code",
   "execution_count": 13,
   "metadata": {},
   "outputs": [],
   "source": [
    "# 벡터 생성\n",
    "example_vectors = np.random.randn(10,5)\n",
    "\n",
    "# 벡터 삽입\n",
    "for vec in example_vectors:\n",
    "    # 벡터 데이터를 삽입 (PostgreSQL의 vector 타입은 문자열 형태로 저장)\n",
    "    cursor.execute(\n",
    "        \"INSERT INTO vectors (embedding) VALUES (%s)\", \n",
    "        (vec.tolist(),)  # numpy 배열을 Python 리스트로 변환\n",
    "    )\n",
    "\n",
    "# 대량 삽입\n",
    "vector_data = [(str(vec.tolist()),) for vec in example_vectors] # 벡터 데이터를 문자열로 변환\n",
    "\n",
    "cursor.executemany(\n",
    "    \"INSERT INTO vectors (embedding) VALUES (%s)\",\n",
    "    vector_data\n",
    ")\n",
    "\n",
    "# 커밋\n",
    "conn.commit()"
   ]
  },
  {
   "cell_type": "code",
   "execution_count": 14,
   "metadata": {},
   "outputs": [
    {
     "name": "stdout",
     "output_type": "stream",
     "text": [
      "\n",
      "All Rows:\n",
      "ID: 1, Vector: [0.12701888,0.2993663,-1.2328624,0.6870565,-1.5629419]\n",
      "ID: 2, Vector: [-0.30376497,-0.0043210364,-0.69145894,0.46969783,0.07878624]\n",
      "ID: 3, Vector: [0.54155207,-1.3585801,-1.0702776,1.1729195,-0.5504725]\n",
      "ID: 4, Vector: [-0.23259634,0.77350193,-0.518388,-1.2523943,0.53822637]\n",
      "ID: 5, Vector: [-0.9098616,-1.2025083,0.47929847,1.6063673,0.610721]\n",
      "ID: 6, Vector: [-2.4039948,0.14400895,-0.67204183,-1.0767089,0.8748784]\n",
      "ID: 7, Vector: [-1.2773689,-0.055589672,0.6602447,-1.2963765,0.7178793]\n",
      "ID: 8, Vector: [-0.49645317,-0.059072237,0.55204207,0.49120075,-0.71522546]\n",
      "ID: 9, Vector: [-0.18570223,0.8807963,-1.9256159,-0.6219642,-0.20944256]\n",
      "ID: 10, Vector: [0.45958757,0.7651895,-1.8468606,-0.57813835,0.557521]\n",
      "ID: 11, Vector: [0.12701888,0.2993663,-1.2328624,0.6870565,-1.5629419]\n",
      "ID: 12, Vector: [-0.30376497,-0.0043210364,-0.69145894,0.46969783,0.07878624]\n",
      "ID: 13, Vector: [0.54155207,-1.3585801,-1.0702776,1.1729195,-0.5504725]\n",
      "ID: 14, Vector: [-0.23259634,0.77350193,-0.518388,-1.2523943,0.53822637]\n",
      "ID: 15, Vector: [-0.9098616,-1.2025083,0.47929847,1.6063673,0.610721]\n",
      "ID: 16, Vector: [-2.4039948,0.14400895,-0.67204183,-1.0767089,0.8748784]\n",
      "ID: 17, Vector: [-1.2773689,-0.055589672,0.6602447,-1.2963765,0.7178793]\n",
      "ID: 18, Vector: [-0.49645317,-0.059072237,0.55204207,0.49120075,-0.71522546]\n",
      "ID: 19, Vector: [-0.18570223,0.8807963,-1.9256159,-0.6219642,-0.20944256]\n",
      "ID: 20, Vector: [0.45958757,0.7651895,-1.8468606,-0.57813835,0.557521]\n"
     ]
    }
   ],
   "source": [
    "# 삽입 확인\n",
    "cursor.execute(\"SELECT * FROM vectors;\")\n",
    "results = cursor.fetchall()\n",
    "\n",
    "def show(rows):\n",
    "    for row in rows:\n",
    "        print(f\"ID: {row[0]}, Vector: {row[1]}\")\n",
    "\n",
    "print('\\nAll Rows:')\n",
    "show(results)"
   ]
  },
  {
   "cell_type": "code",
   "execution_count": 15,
   "metadata": {},
   "outputs": [
    {
     "data": {
      "text/plain": [
       "[[0.8682892366420777,\n",
       "  2.4796360452916373,\n",
       "  0.7687134195230758,\n",
       "  -0.4908894881961153,\n",
       "  -1.4130724736305247]]"
      ]
     },
     "execution_count": 15,
     "metadata": {},
     "output_type": "execute_result"
    }
   ],
   "source": [
    "np.random.randn(1, 5).tolist()"
   ]
  },
  {
   "cell_type": "code",
   "execution_count": 16,
   "metadata": {},
   "outputs": [
    {
     "name": "stdout",
     "output_type": "stream",
     "text": [
      "ID: 13, Vector: [0.54155207,-1.3585801,-1.0702776,1.1729195,-0.5504725]\n",
      "ID: 3, Vector: [0.54155207,-1.3585801,-1.0702776,1.1729195,-0.5504725]\n",
      "ID: 1, Vector: [0.12701888,0.2993663,-1.2328624,0.6870565,-1.5629419]\n",
      "ID: 11, Vector: [0.12701888,0.2993663,-1.2328624,0.6870565,-1.5629419]\n",
      "ID: 2, Vector: [-0.30376497,-0.0043210364,-0.69145894,0.46969783,0.07878624]\n"
     ]
    }
   ],
   "source": [
    "%timeit\n",
    "test_vec = np.random.randn(1,5)\n",
    "test_vec_list = test_vec.tolist()[0]\n",
    "cursor.execute(\"SELECT * FROM vectors ORDER BY embedding <-> '{}' LIMIT 5\".format(test_vec_list))\n",
    "results = cursor.fetchall()\n",
    "show(results)"
   ]
  },
  {
   "cell_type": "code",
   "execution_count": 17,
   "metadata": {},
   "outputs": [],
   "source": [
    "# 연결 종료\n",
    "cursor.close()\n",
    "conn.close()"
   ]
  }
 ],
 "metadata": {
  "kernelspec": {
   "display_name": "venv",
   "language": "python",
   "name": "python3"
  },
  "language_info": {
   "codemirror_mode": {
    "name": "ipython",
    "version": 3
   },
   "file_extension": ".py",
   "mimetype": "text/x-python",
   "name": "python",
   "nbconvert_exporter": "python",
   "pygments_lexer": "ipython3",
   "version": "3.12.4"
  }
 },
 "nbformat": 4,
 "nbformat_minor": 2
}
