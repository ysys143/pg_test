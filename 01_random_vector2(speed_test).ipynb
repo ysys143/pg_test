{
 "cells": [
  {
   "cell_type": "markdown",
   "metadata": {},
   "source": [
    "12/11\n",
    "\n",
    "FAISS, ChromaDB, PGVector에 1000차원 float32 벡터 1000개를 입력한 뒤 쿼리한 결과입니다.\n",
    "원격으로 연결이 이루어져서 그런지 입력에 시간이 오래걸렸습니다.\n",
    "별도의 인덱스를 생성하지 않았을 경우, 쿼리시간은 FAISS 2.76e-04, ChromaDB 3.26e-03, PGVector 3.34e-02 순으로 나타났습니다.\n",
    "\n",
    "1) 입력시간을 줄일 수 있는 방법은 없는지\n",
    "2) 조회된 값 자체도 차이가 많이 나고 있는데 이유가 무엇인지\n",
    "2) HNSW 인덱싱을 시도하고, 다양한 차원, 크기에 대해 실험해보았을 때 쿼리시간이 어떻게 나타나는지 조사해보겠습니다.\n",
    "\n",
    "\n",
    "12/13 업데이트\n",
    "\n",
    "대량의 데이터 입력시 걸리는 입력시간의 문제는 INSERT가 아닌 COPY 방식으로 해결할 수 있었습니다.\n",
    "=> 04_copy_loading.ipynb"
   ]
  },
  {
   "cell_type": "markdown",
   "metadata": {},
   "source": [
    "# 벡터 생성"
   ]
  },
  {
   "cell_type": "code",
   "execution_count": 3,
   "metadata": {},
   "outputs": [],
   "source": [
    "import psycopg2\n",
    "import numpy as np\n",
    "from time import time\n",
    "from tqdm import tqdm"
   ]
  },
  {
   "cell_type": "code",
   "execution_count": 4,
   "metadata": {},
   "outputs": [],
   "source": [
    "# 벡터 생성\n",
    "example_vectors = np.random.randn(1000,1000).astype('float32')\n",
    "dim_vectors = example_vectors.shape[1]\n",
    "\n",
    "# 벡터 검색\n",
    "test = np.random.randn(1, dim_vectors)\n",
    "test_vec = np.random.randn(1, dim_vectors).astype('float32')  # 검색할 벡터\n",
    "k = 5  # 상위 5개 유사 벡터 검색"
   ]
  },
  {
   "cell_type": "markdown",
   "metadata": {},
   "source": [
    "# 연결 및 입력"
   ]
  },
  {
   "cell_type": "markdown",
   "metadata": {},
   "source": [
    "## FAISS"
   ]
  },
  {
   "cell_type": "code",
   "execution_count": 40,
   "metadata": {},
   "outputs": [
    {
     "name": "stdout",
     "output_type": "stream",
     "text": [
      "FAISS 인덱스에 1000개의 벡터가 추가되었습니다.\n"
     ]
    }
   ],
   "source": [
    "import os\n",
    "import numpy as np\n",
    "import faiss\n",
    "\n",
    "# FAISS 인덱스 초기화\n",
    "# L2 거리 (유클리디안 거리) 기준 인덱스 생성\n",
    "index = faiss.IndexFlatL2(dim_vectors)  # 벡터 차원\n",
    "\n",
    "# index 생성\n",
    "example_ids = [f\"vec_{i}\" for i in range(len(example_vectors))]\n",
    "\n",
    "# 벡터 삽입\n",
    "index.add(example_vectors)  # 벡터 추가\n",
    "print(f\"FAISS 인덱스에 {index.ntotal}개의 벡터가 추가되었습니다.\")"
   ]
  },
  {
   "cell_type": "code",
   "execution_count": 41,
   "metadata": {},
   "outputs": [],
   "source": [
    "# ID와 벡터 인덱스 매핑\n",
    "id_to_index = {i: example_ids[i] for i in range(len(example_vectors))}\n",
    "\n",
    "# 인덱스 저장\n",
    "faiss.write_index(index, \"faiss_index.bin\")"
   ]
  },
  {
   "cell_type": "markdown",
   "metadata": {},
   "source": [
    "## Chroma"
   ]
  },
  {
   "cell_type": "code",
   "execution_count": 1,
   "metadata": {},
   "outputs": [
    {
     "name": "stdout",
     "output_type": "stream",
     "text": [
      "./chromadb_store 디렉토리가 생성되었습니다.\n"
     ]
    }
   ],
   "source": [
    "import os\n",
    "import chromadb\n",
    "from chromadb.config import Settings\n",
    "import numpy as np\n",
    "\n",
    "# 디렉토리 경로\n",
    "directory = \"./chromadb_store\"\n",
    "\n",
    "# 디렉토리 생성\n",
    "if not os.path.exists(directory):\n",
    "    os.makedirs(directory)\n",
    "    print(f\"{directory} 디렉토리가 생성되었습니다.\")\n",
    "\n",
    "# ChromaDB 클라이언트 초기화\n",
    "client = chromadb.PersistentClient(path=directory)\n",
    "\n",
    "# 컬렉션 생성 또는 불러오기\n",
    "if 'vectors' in [collection.name for collection in client.list_collections()]:\n",
    "    client.delete_collection(name='vectors')\n",
    "collection = client.get_or_create_collection(name=\"vectors\")"
   ]
  },
  {
   "cell_type": "code",
   "execution_count": 5,
   "metadata": {},
   "outputs": [],
   "source": [
    "# 벡터 삽입\n",
    "example_ids = [f\"vec_{i}\" for i in range(len(example_vectors))]\n",
    "collection.add(embeddings=example_vectors, ids=example_ids)"
   ]
  },
  {
   "cell_type": "markdown",
   "metadata": {},
   "source": [
    "## postgres"
   ]
  },
  {
   "cell_type": "code",
   "execution_count": 4,
   "metadata": {},
   "outputs": [],
   "source": [
    "# 연결\n",
    "#conn = psycopg2.connect(host='localhost', dbname='postgres', user='admin', password='1234', port=5432)\n",
    "conn = psycopg2.connect(host='192.168.0.47', dbname='postgres', user='postgres', password='postgres1016', port=55432)\n",
    "cursor = conn.cursor()\n",
    "\n",
    "# pgvector 확장\n",
    "query = \"\"\"\n",
    "        CREATE EXTENSION IF NOT EXISTS vectors;\n",
    "        \"\"\"\n",
    "\n",
    "cursor.execute(query)\n",
    "\n",
    "# vector 테이블 생성\n",
    "cursor.execute(\"DROP TABLE IF EXISTS vectors;\")\n",
    "cursor.execute(f\"CREATE TABLE IF NOT EXISTS vectors (id bigserial PRIMARY KEY, embedding vector({dim_vectors}));\")"
   ]
  },
  {
   "cell_type": "code",
   "execution_count": null,
   "metadata": {},
   "outputs": [],
   "source": [
    "cursor.execute(\"SELECT COUNT(*) from vectors;\")\n",
    "cursor.fetchall()"
   ]
  },
  {
   "cell_type": "code",
   "execution_count": 10,
   "metadata": {},
   "outputs": [],
   "source": [
    "# 연결\n",
    "#conn = psycopg2.connect(host='localhost', dbname='postgres', user='admin', password='1234', port=5432)\n",
    "conn = psycopg2.connect(host='192.168.0.47', dbname='postgres', user='postgres', password='postgres1016', port=55432)\n",
    "cursor = conn.cursor()\n",
    "\n",
    "cursor.execute(f\"CREATE TABLE IF NOT EXISTS items (id bigserial PRIMARY KEY, embedding vector({dim_vectors}));\")\n"
   ]
  },
  {
   "cell_type": "code",
   "execution_count": 12,
   "metadata": {},
   "outputs": [
    {
     "name": "stderr",
     "output_type": "stream",
     "text": [
      "100%|██████████| 1000/1000 [00:25<00:00, 39.82it/s]\n"
     ]
    }
   ],
   "source": [
    "# 벡터 삽입\n",
    "for vec in tqdm(example_vectors):\n",
    "    # 벡터 데이터를 삽입 (PostgreSQL의 vector 타입은 문자열 형태로 저장)\n",
    "    cursor.execute(\n",
    "        \"INSERT INTO items (embedding) VALUES (%s);\", \n",
    "        (vec.tolist(),)  # numpy 배열을 Python 리스트로 변환\n",
    "    )\n",
    "\n",
    "# # 대량 삽입 - 테스트 결과 실행시간은 차이 없음\n",
    "# vector_data = [(vec.tolist(),) for vec in example_vectors]\n",
    "\n",
    "# cursor.executemany(\n",
    "#     \"INSERT INTO vectors (embedding) VALUES (%s);\",\n",
    "#     vector_data\n",
    "# )\n",
    "\n",
    "# 커밋\n",
    "conn.commit()\n",
    "conn.close()"
   ]
  },
  {
   "cell_type": "markdown",
   "metadata": {},
   "source": [
    "# 검색속도비교"
   ]
  },
  {
   "cell_type": "code",
   "execution_count": 46,
   "metadata": {},
   "outputs": [
    {
     "name": "stdout",
     "output_type": "stream",
     "text": [
      "0.0002760887145996094\n",
      "\n",
      "Top 5 Nearest Vectors:\n",
      "Rank 1: ID = vec_367, Distance = 1677.269775390625\n",
      "Rank 2: ID = vec_901, Distance = 1705.8570556640625\n",
      "Rank 3: ID = vec_61, Distance = 1710.5772705078125\n",
      "Rank 4: ID = vec_558, Distance = 1715.16650390625\n",
      "Rank 5: ID = vec_443, Distance = 1721.9249267578125\n"
     ]
    }
   ],
   "source": [
    "# 저장된 인덱스 불러오기\n",
    "index = faiss.read_index(\"faiss_index.bin\")\n",
    "\n",
    "# 검색 수행\n",
    "s = time()\n",
    "distances, indices = index.search(test_vec, k)\n",
    "time_spent = time() - s\n",
    "print(time_spent)\n",
    "\n",
    "# 결과 출력\n",
    "def show_results(test_vec, distances, indices):\n",
    "    for rank, (dist, idx) in enumerate(zip(distances[0], indices[0])):\n",
    "        vector_id = id_to_index[idx]\n",
    "        print(f\"Rank {rank + 1}: ID = {vector_id}, Distance = {dist}\")\n",
    "\n",
    "print(\"\\nTop 5 Nearest Vectors:\")\n",
    "show_results(test_vec, distances, indices)"
   ]
  },
  {
   "cell_type": "code",
   "execution_count": 6,
   "metadata": {},
   "outputs": [
    {
     "name": "stdout",
     "output_type": "stream",
     "text": [
      "0.002086162567138672\n",
      "\n",
      "Top 5 Nearest Vectors:\n",
      "Rank 1: ID = vec_296, Similarity = 1732.6195068359375\n",
      "Rank 2: ID = vec_713, Similarity = 1775.5677490234375\n",
      "Rank 3: ID = vec_927, Similarity = 1778.8040771484375\n",
      "Rank 4: ID = vec_898, Similarity = 1783.8553466796875\n",
      "Rank 5: ID = vec_286, Similarity = 1785.148681640625\n"
     ]
    }
   ],
   "source": [
    "\n",
    "# 컬렉션 로드\n",
    "# 디렉토리 경로\n",
    "directory = \"./chromadb_store\"\n",
    "\n",
    "# ChromaDB 클라이언트 초기화\n",
    "client = chromadb.PersistentClient(path=directory)\n",
    "collection = client.get_or_create_collection(name=\"vectors\")\n",
    "\n",
    "\n",
    "# 벡터 검색\n",
    "test_embedding = test_vec.squeeze().tolist()\n",
    "\n",
    "s = time()\n",
    "retrieved = collection.query(\n",
    "    query_embeddings=[test_embedding],\n",
    "    n_results=5\n",
    ")\n",
    "time_spent = time() - s\n",
    "print(time_spent)\n",
    "\n",
    "# 결과 출력\n",
    "def show_results(results):\n",
    "    for idx, doc_id in enumerate(results[\"ids\"][0]):\n",
    "        print(f\"Rank {idx + 1}: ID = {doc_id}, Similarity = {results['distances'][0][idx]}\")\n",
    "\n",
    "print(\"\\nTop 5 Nearest Vectors:\")\n",
    "show_results(retrieved)"
   ]
  },
  {
   "cell_type": "code",
   "execution_count": 5,
   "metadata": {},
   "outputs": [],
   "source": [
    "# 연결\n",
    "#conn = psycopg2.connect(host='localhost', dbname='postgres', user='admin', password='1234', port=5432)\n",
    "conn = psycopg2.connect(host='192.168.0.47', dbname='postgres', user='postgres', password='postgres1016', port=55432)\n",
    "cursor = conn.cursor()"
   ]
  },
  {
   "cell_type": "code",
   "execution_count": 6,
   "metadata": {},
   "outputs": [],
   "source": [
    "# 결과 출력 함수\n",
    "def show(rows):\n",
    "    for row in rows:\n",
    "        print(f\"ID: {row[0]}, Similarity: {row[1]}\")\n",
    "\n",
    "# 검색할 벡터 변환\n",
    "test_vec = test.tolist()[0]\n",
    "\n",
    "# 유사도를 포함한 쿼리 실행\n",
    "s = time()\n",
    "cursor.execute(\"\"\"\n",
    "    SELECT id, \n",
    "        embedding <-> '{}' AS similarity\n",
    "    FROM vectors\n",
    "    ORDER BY similarity\n",
    "    LIMIT 5\n",
    "\"\"\".format(test_vec))\n",
    "time_spent = time() - s\n",
    "print(time_spent)\n",
    "\n",
    "# 결과 가져오기\n",
    "results = cursor.fetchall()\n",
    "\n",
    "show(results)\n",
    "\n",
    "# 연결 종료\n",
    "cursor.close()\n",
    "conn.close()"
   ]
  }
 ],
 "metadata": {
  "kernelspec": {
   "display_name": "venv",
   "language": "python",
   "name": "python3"
  },
  "language_info": {
   "codemirror_mode": {
    "name": "ipython",
    "version": 3
   },
   "file_extension": ".py",
   "mimetype": "text/x-python",
   "name": "python",
   "nbconvert_exporter": "python",
   "pygments_lexer": "ipython3",
   "version": "3.12.4"
  }
 },
 "nbformat": 4,
 "nbformat_minor": 2
}
